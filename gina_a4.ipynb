{
 "cells": [
  {
   "cell_type": "markdown",
   "id": "6e7f05f2-4325-4f8b-8479-a43caba2e51a",
   "metadata": {},
   "source": [
    "# Assignment 4: Computational Code and Output"
   ]
  },
  {
   "cell_type": "markdown",
   "id": "fd64372d-31d9-4263-aa22-61c95e876baf",
   "metadata": {},
   "source": [
    "#### Gina Choi 84259324"
   ]
  },
  {
   "cell_type": "markdown",
   "id": "6d1ce2ae-2fa2-49a1-81fd-765f311d207d",
   "metadata": {},
   "source": [
    "**Summary of Dataset**\n",
    "\n",
    "From kaggle, the World University Rankings 2023 dataset spans 104 countries and regions with 1799 universities. The data was collected by Times Higher Education's survey responses from 40,000 scholars across the world and analyzing 121 million citations in over 15.5 million research publications. Over 2,500 institutions\n",
    "submitted data and over 680,000 data points were collected as a result. The key variables in this dataset are the teaching, research, international outlook and citations score. \n",
    "\n",
    "**Characterization of Data:**\n",
    "\n",
    "- 2341 observations\n",
    "- 13 variables\n",
    "\n",
    "**Link to Data:** https://www.kaggle.com/datasets/alitaqi000/world-university-rankings-2023"
   ]
  },
  {
   "cell_type": "markdown",
   "id": "c9a90b94-2381-48b0-9964-cb6855d7b796",
   "metadata": {},
   "source": [
    "| Variable Name             | Description                               | Data Type |\n",
    "|-------------------------|-------------------------------------------|-----------|\n",
    "| University Rank         | World ranking of the university                 | character   |\n",
    "| Name of University      | Name                     | character |\n",
    "| Location                | University Location               | character |\n",
    "| No of student           | Number of students enrolled presently                     | numeric  |\n",
    "| No of student per staff | Number of students per staff (students under 1 professor)          | numeric   |\n",
    "| International Student   | Percentage of international students      | character  |\n",
    "| Female : Male Ratio     | Ratio of female to male students          | character   |\n",
    "| OverAll Score           | Overall score out of 100          | character    |\n",
    "| Teaching Score          | Teaching score out of 100         | character    |\n",
    "| Research Score          | Research score out of 100         | character    |\n",
    "| Citations Score         | Citations score out of 100. (Number of citations recieved by a journal in a year to documents published in the past 3 years divided by number of indexed documents in Scopus published in the past 3 years)     | character    |\n",
    "| Industry Income Score   | Industry income score out of 100. Based on how much the university earns from the working industry due to its academics.  | character    |\n",
    "| International Outlook Score | International outlook score out of 100. Based on how well the university attracts students and staff on a global scale. | character  |"
   ]
  },
  {
   "cell_type": "markdown",
   "id": "e03e43c4-c6fc-475e-82ee-4766c242005e",
   "metadata": {},
   "source": [
    "**Question:** \n",
    "\n",
    "### **How does the research score change based on university rank, teaching score, and female to male ratios?**\n",
    "\n",
    "This question is inferential - I am looking to explore the relationship between these covariates and the research score. My goal is to quantify these trends using the following variables in the dataset: Female : Male Ratio, University Rank, Research Score, and Teaching Score. This would provide insight into how the quality of teaching, gender ratios, and ranking affects the quality of research at an institution. We will explore and quantify how applicable these insights can be to the wider population.  \n",
    "\n",
    "Gender wage gaps vary across the globe. For example, according to the annual Gender Gap Report in 2023 by the World Economic Forum, India placed 127th out of 146 countries. In comparison, Canada ranked 52nd. Therefore, it will be interesting to see if the institutions' research score reflects this gap. \n",
    "\n",
    "Furthermore, we can see how rank affects these gender ratios. In general and in most countries, higher ranking universities more likely lead to better opportunities and salaries, which could be a factor in the gender gap if higher ranking institutions had fewer females enrolled. As a higher research score increases rank, this could suggest that high research scores may associate with lower female enrollment. \n",
    "\n",
    "Finally, teaching score reflects the expertise of faculty, which may be associated with the research score. However, we will keep in mind that some institutions are better known for research than teaching and vice versa.\n"
   ]
  },
  {
   "cell_type": "code",
   "execution_count": 27,
   "id": "037bc314-e52b-4bd8-a0a0-f2ff26841dec",
   "metadata": {},
   "outputs": [
    {
     "name": "stderr",
     "output_type": "stream",
     "text": [
      "Installing package into ‘/home/jupyter/R/x86_64-pc-linux-gnu-library/4.3’\n",
      "(as ‘lib’ is unspecified)\n",
      "\n",
      "Warning message in install.packages(\"readr\"):\n",
      "“installation of package ‘readr’ had non-zero exit status”\n",
      "Installing package into ‘/home/jupyter/R/x86_64-pc-linux-gnu-library/4.3’\n",
      "(as ‘lib’ is unspecified)\n",
      "\n",
      "Installing package into ‘/home/jupyter/R/x86_64-pc-linux-gnu-library/4.3’\n",
      "(as ‘lib’ is unspecified)\n",
      "\n"
     ]
    },
    {
     "ename": "ERROR",
     "evalue": "Error in library(olsrr): there is no package called ‘olsrr’\n",
     "output_type": "error",
     "traceback": [
      "Error in library(olsrr): there is no package called ‘olsrr’\nTraceback:\n",
      "1. library(olsrr)"
     ]
    }
   ],
   "source": [
    "install.packages(\"readr\")\n",
    "install.packages(\"ggplot2\")\n",
    "install.packages(\"leaps\")\n",
    "library(readr)\n",
    "library(dplyr)\n",
    "library(ggplot2)\n",
    "library(leaps)\n",
    "library(olsrr)"
   ]
  },
  {
   "cell_type": "markdown",
   "id": "8c7a6cd2-6b41-4b98-b9ec-b5c4bd683dff",
   "metadata": {},
   "source": [
    "### First, we read the dataset from the web into R"
   ]
  },
  {
   "cell_type": "code",
   "execution_count": 38,
   "id": "a114c9b8-2e25-4d29-9d97-89b3010c34fe",
   "metadata": {},
   "outputs": [
    {
     "name": "stderr",
     "output_type": "stream",
     "text": [
      "\u001b[1mRows: \u001b[22m\u001b[34m2341\u001b[39m \u001b[1mColumns: \u001b[22m\u001b[34m13\u001b[39m\n",
      "\u001b[36m──\u001b[39m \u001b[1mColumn specification\u001b[22m \u001b[36m────────────────────────────────────────────────────────\u001b[39m\n",
      "\u001b[1mDelimiter:\u001b[22m \",\"\n",
      "\u001b[31mchr\u001b[39m (11): University Rank, Name of University, Location, International Stude...\n",
      "\u001b[32mdbl\u001b[39m  (1): No of student per staff\n",
      "\u001b[32mnum\u001b[39m  (1): No of student\n",
      "\n",
      "\u001b[36mℹ\u001b[39m Use `spec()` to retrieve the full column specification for this data.\n",
      "\u001b[36mℹ\u001b[39m Specify the column types or set `show_col_types = FALSE` to quiet this message.\n"
     ]
    },
    {
     "data": {
      "text/html": [
       "<table class=\"dataframe\">\n",
       "<caption>A tibble: 6 × 13</caption>\n",
       "<thead>\n",
       "\t<tr><th scope=col>University Rank</th><th scope=col>Name of University</th><th scope=col>Location</th><th scope=col>No of student</th><th scope=col>No of student per staff</th><th scope=col>International Student</th><th scope=col>Female:Male Ratio</th><th scope=col>OverAll Score</th><th scope=col>Teaching Score</th><th scope=col>Research Score</th><th scope=col>Citations Score</th><th scope=col>Industry Income Score</th><th scope=col>International Outlook Score</th></tr>\n",
       "\t<tr><th scope=col>&lt;chr&gt;</th><th scope=col>&lt;chr&gt;</th><th scope=col>&lt;chr&gt;</th><th scope=col>&lt;dbl&gt;</th><th scope=col>&lt;dbl&gt;</th><th scope=col>&lt;chr&gt;</th><th scope=col>&lt;chr&gt;</th><th scope=col>&lt;chr&gt;</th><th scope=col>&lt;chr&gt;</th><th scope=col>&lt;chr&gt;</th><th scope=col>&lt;chr&gt;</th><th scope=col>&lt;chr&gt;</th><th scope=col>&lt;chr&gt;</th></tr>\n",
       "</thead>\n",
       "<tbody>\n",
       "\t<tr><td>1</td><td>University of Oxford                 </td><td>United Kingdom</td><td>20965</td><td>10.6</td><td>42%</td><td>48 : 52</td><td>96.4</td><td>92.3</td><td>99.7</td><td>99.0</td><td>74.9</td><td>96.2</td></tr>\n",
       "\t<tr><td>2</td><td>Harvard University                   </td><td>United States </td><td>21887</td><td> 9.6</td><td>25%</td><td>50 : 50</td><td>95.2</td><td>94.8</td><td>99.0</td><td>99.3</td><td>49.5</td><td>80.5</td></tr>\n",
       "\t<tr><td>3</td><td>University of Cambridge              </td><td>United Kingdom</td><td>20185</td><td>11.3</td><td>39%</td><td>47 : 53</td><td>94.8</td><td>90.9</td><td>99.5</td><td>97.0</td><td>54.2</td><td>95.8</td></tr>\n",
       "\t<tr><td>3</td><td>Stanford University                  </td><td>United States </td><td>16164</td><td> 7.1</td><td>24%</td><td>46 : 54</td><td>94.8</td><td>94.2</td><td>96.7</td><td>99.8</td><td>65.0</td><td>79.8</td></tr>\n",
       "\t<tr><td>5</td><td>Massachusetts Institute of Technology</td><td>United States </td><td>11415</td><td> 8.2</td><td>33%</td><td>40 : 60</td><td>94.2</td><td>90.7</td><td>93.6</td><td>99.8</td><td>90.9</td><td>89.3</td></tr>\n",
       "\t<tr><td>6</td><td>California Institute of Technology   </td><td>United States </td><td> 2237</td><td> 6.2</td><td>34%</td><td>37 : 63</td><td>94.1</td><td>90.9</td><td>97.0</td><td>97.3</td><td>89.8</td><td>83.6</td></tr>\n",
       "</tbody>\n",
       "</table>\n"
      ],
      "text/latex": [
       "A tibble: 6 × 13\n",
       "\\begin{tabular}{lllllllllllll}\n",
       " University Rank & Name of University & Location & No of student & No of student per staff & International Student & Female:Male Ratio & OverAll Score & Teaching Score & Research Score & Citations Score & Industry Income Score & International Outlook Score\\\\\n",
       " <chr> & <chr> & <chr> & <dbl> & <dbl> & <chr> & <chr> & <chr> & <chr> & <chr> & <chr> & <chr> & <chr>\\\\\n",
       "\\hline\n",
       "\t 1 & University of Oxford                  & United Kingdom & 20965 & 10.6 & 42\\% & 48 : 52 & 96.4 & 92.3 & 99.7 & 99.0 & 74.9 & 96.2\\\\\n",
       "\t 2 & Harvard University                    & United States  & 21887 &  9.6 & 25\\% & 50 : 50 & 95.2 & 94.8 & 99.0 & 99.3 & 49.5 & 80.5\\\\\n",
       "\t 3 & University of Cambridge               & United Kingdom & 20185 & 11.3 & 39\\% & 47 : 53 & 94.8 & 90.9 & 99.5 & 97.0 & 54.2 & 95.8\\\\\n",
       "\t 3 & Stanford University                   & United States  & 16164 &  7.1 & 24\\% & 46 : 54 & 94.8 & 94.2 & 96.7 & 99.8 & 65.0 & 79.8\\\\\n",
       "\t 5 & Massachusetts Institute of Technology & United States  & 11415 &  8.2 & 33\\% & 40 : 60 & 94.2 & 90.7 & 93.6 & 99.8 & 90.9 & 89.3\\\\\n",
       "\t 6 & California Institute of Technology    & United States  &  2237 &  6.2 & 34\\% & 37 : 63 & 94.1 & 90.9 & 97.0 & 97.3 & 89.8 & 83.6\\\\\n",
       "\\end{tabular}\n"
      ],
      "text/markdown": [
       "\n",
       "A tibble: 6 × 13\n",
       "\n",
       "| University Rank &lt;chr&gt; | Name of University &lt;chr&gt; | Location &lt;chr&gt; | No of student &lt;dbl&gt; | No of student per staff &lt;dbl&gt; | International Student &lt;chr&gt; | Female:Male Ratio &lt;chr&gt; | OverAll Score &lt;chr&gt; | Teaching Score &lt;chr&gt; | Research Score &lt;chr&gt; | Citations Score &lt;chr&gt; | Industry Income Score &lt;chr&gt; | International Outlook Score &lt;chr&gt; |\n",
       "|---|---|---|---|---|---|---|---|---|---|---|---|---|\n",
       "| 1 | University of Oxford                  | United Kingdom | 20965 | 10.6 | 42% | 48 : 52 | 96.4 | 92.3 | 99.7 | 99.0 | 74.9 | 96.2 |\n",
       "| 2 | Harvard University                    | United States  | 21887 |  9.6 | 25% | 50 : 50 | 95.2 | 94.8 | 99.0 | 99.3 | 49.5 | 80.5 |\n",
       "| 3 | University of Cambridge               | United Kingdom | 20185 | 11.3 | 39% | 47 : 53 | 94.8 | 90.9 | 99.5 | 97.0 | 54.2 | 95.8 |\n",
       "| 3 | Stanford University                   | United States  | 16164 |  7.1 | 24% | 46 : 54 | 94.8 | 94.2 | 96.7 | 99.8 | 65.0 | 79.8 |\n",
       "| 5 | Massachusetts Institute of Technology | United States  | 11415 |  8.2 | 33% | 40 : 60 | 94.2 | 90.7 | 93.6 | 99.8 | 90.9 | 89.3 |\n",
       "| 6 | California Institute of Technology    | United States  |  2237 |  6.2 | 34% | 37 : 63 | 94.1 | 90.9 | 97.0 | 97.3 | 89.8 | 83.6 |\n",
       "\n"
      ],
      "text/plain": [
       "  University Rank Name of University                    Location      \n",
       "1 1               University of Oxford                  United Kingdom\n",
       "2 2               Harvard University                    United States \n",
       "3 3               University of Cambridge               United Kingdom\n",
       "4 3               Stanford University                   United States \n",
       "5 5               Massachusetts Institute of Technology United States \n",
       "6 6               California Institute of Technology    United States \n",
       "  No of student No of student per staff International Student Female:Male Ratio\n",
       "1 20965         10.6                    42%                   48 : 52          \n",
       "2 21887          9.6                    25%                   50 : 50          \n",
       "3 20185         11.3                    39%                   47 : 53          \n",
       "4 16164          7.1                    24%                   46 : 54          \n",
       "5 11415          8.2                    33%                   40 : 60          \n",
       "6  2237          6.2                    34%                   37 : 63          \n",
       "  OverAll Score Teaching Score Research Score Citations Score\n",
       "1 96.4          92.3           99.7           99.0           \n",
       "2 95.2          94.8           99.0           99.3           \n",
       "3 94.8          90.9           99.5           97.0           \n",
       "4 94.8          94.2           96.7           99.8           \n",
       "5 94.2          90.7           93.6           99.8           \n",
       "6 94.1          90.9           97.0           97.3           \n",
       "  Industry Income Score International Outlook Score\n",
       "1 74.9                  96.2                       \n",
       "2 49.5                  80.5                       \n",
       "3 54.2                  95.8                       \n",
       "4 65.0                  79.8                       \n",
       "5 90.9                  89.3                       \n",
       "6 89.8                  83.6                       "
      ]
     },
     "metadata": {},
     "output_type": "display_data"
    }
   ],
   "source": [
    "data <- read_csv(\"/home/jupyter/301 Project/data.csv\")\n",
    "head(data)"
   ]
  },
  {
   "cell_type": "markdown",
   "id": "412de3df-1221-475d-addd-02b8d9fab421",
   "metadata": {},
   "source": [
    "## Cleaning and Wrangling data into a Tidy format:\n",
    "\n",
    "By looking at the last rows of the data, we see many NA and n/a values. To clean the data up, we use na.omit() to remove these values."
   ]
  },
  {
   "cell_type": "code",
   "execution_count": 39,
   "id": "1b2da575-3c8f-4cc0-b693-0796f90fd2e7",
   "metadata": {
    "scrolled": true
   },
   "outputs": [
    {
     "data": {
      "text/html": [
       "<table class=\"dataframe\">\n",
       "<caption>A tibble: 6 × 13</caption>\n",
       "<thead>\n",
       "\t<tr><th scope=col>University Rank</th><th scope=col>Name of University</th><th scope=col>Location</th><th scope=col>No of student</th><th scope=col>No of student per staff</th><th scope=col>International Student</th><th scope=col>Female:Male Ratio</th><th scope=col>OverAll Score</th><th scope=col>Teaching Score</th><th scope=col>Research Score</th><th scope=col>Citations Score</th><th scope=col>Industry Income Score</th><th scope=col>International Outlook Score</th></tr>\n",
       "\t<tr><th scope=col>&lt;chr&gt;</th><th scope=col>&lt;chr&gt;</th><th scope=col>&lt;chr&gt;</th><th scope=col>&lt;dbl&gt;</th><th scope=col>&lt;dbl&gt;</th><th scope=col>&lt;chr&gt;</th><th scope=col>&lt;chr&gt;</th><th scope=col>&lt;chr&gt;</th><th scope=col>&lt;chr&gt;</th><th scope=col>&lt;chr&gt;</th><th scope=col>&lt;chr&gt;</th><th scope=col>&lt;chr&gt;</th><th scope=col>&lt;chr&gt;</th></tr>\n",
       "</thead>\n",
       "<tbody>\n",
       "\t<tr><td>-</td><td>University of the Western Cape     </td><td>NA</td><td>NA</td><td>NA</td><td>NA</td><td>NA</td><td>34.0–39.2</td><td>20.4</td><td>23.7</td><td>61.6</td><td>36.9</td><td>55.8</td></tr>\n",
       "\t<tr><td>-</td><td>University of the West of Scotland </td><td>NA</td><td>NA</td><td>NA</td><td>NA</td><td>NA</td><td>34.0–39.2</td><td>24.1</td><td>15.5</td><td>61.5</td><td>37.9</td><td>76.8</td></tr>\n",
       "\t<tr><td>-</td><td>University of Windsor              </td><td>NA</td><td>NA</td><td>NA</td><td>NA</td><td>NA</td><td>34.0–39.2</td><td>35.1</td><td>29.4</td><td>34.5</td><td>44.2</td><td>88.7</td></tr>\n",
       "\t<tr><td>-</td><td>University of Wolverhampton        </td><td>NA</td><td>NA</td><td>NA</td><td>NA</td><td>NA</td><td>34.0–39.2</td><td>18.2</td><td>14.3</td><td>68.8</td><td>37.3</td><td>72.0</td></tr>\n",
       "\t<tr><td>-</td><td>University of Wuppertal            </td><td>NA</td><td>NA</td><td>NA</td><td>NA</td><td>NA</td><td>34.0–39.2</td><td>26.4</td><td>26.7</td><td>52.8</td><td>52.1</td><td>47.6</td></tr>\n",
       "\t<tr><td>-</td><td>Xi’an Jiaotong-Liverpool University</td><td>NA</td><td>NA</td><td>NA</td><td>NA</td><td>NA</td><td>34.0–39.2</td><td>17.8</td><td>14.8</td><td>68.2</td><td>38.2</td><td>72.4</td></tr>\n",
       "</tbody>\n",
       "</table>\n"
      ],
      "text/latex": [
       "A tibble: 6 × 13\n",
       "\\begin{tabular}{lllllllllllll}\n",
       " University Rank & Name of University & Location & No of student & No of student per staff & International Student & Female:Male Ratio & OverAll Score & Teaching Score & Research Score & Citations Score & Industry Income Score & International Outlook Score\\\\\n",
       " <chr> & <chr> & <chr> & <dbl> & <dbl> & <chr> & <chr> & <chr> & <chr> & <chr> & <chr> & <chr> & <chr>\\\\\n",
       "\\hline\n",
       "\t - & University of the Western Cape      & NA & NA & NA & NA & NA & 34.0–39.2 & 20.4 & 23.7 & 61.6 & 36.9 & 55.8\\\\\n",
       "\t - & University of the West of Scotland  & NA & NA & NA & NA & NA & 34.0–39.2 & 24.1 & 15.5 & 61.5 & 37.9 & 76.8\\\\\n",
       "\t - & University of Windsor               & NA & NA & NA & NA & NA & 34.0–39.2 & 35.1 & 29.4 & 34.5 & 44.2 & 88.7\\\\\n",
       "\t - & University of Wolverhampton         & NA & NA & NA & NA & NA & 34.0–39.2 & 18.2 & 14.3 & 68.8 & 37.3 & 72.0\\\\\n",
       "\t - & University of Wuppertal             & NA & NA & NA & NA & NA & 34.0–39.2 & 26.4 & 26.7 & 52.8 & 52.1 & 47.6\\\\\n",
       "\t - & Xi’an Jiaotong-Liverpool University & NA & NA & NA & NA & NA & 34.0–39.2 & 17.8 & 14.8 & 68.2 & 38.2 & 72.4\\\\\n",
       "\\end{tabular}\n"
      ],
      "text/markdown": [
       "\n",
       "A tibble: 6 × 13\n",
       "\n",
       "| University Rank &lt;chr&gt; | Name of University &lt;chr&gt; | Location &lt;chr&gt; | No of student &lt;dbl&gt; | No of student per staff &lt;dbl&gt; | International Student &lt;chr&gt; | Female:Male Ratio &lt;chr&gt; | OverAll Score &lt;chr&gt; | Teaching Score &lt;chr&gt; | Research Score &lt;chr&gt; | Citations Score &lt;chr&gt; | Industry Income Score &lt;chr&gt; | International Outlook Score &lt;chr&gt; |\n",
       "|---|---|---|---|---|---|---|---|---|---|---|---|---|\n",
       "| - | University of the Western Cape      | NA | NA | NA | NA | NA | 34.0–39.2 | 20.4 | 23.7 | 61.6 | 36.9 | 55.8 |\n",
       "| - | University of the West of Scotland  | NA | NA | NA | NA | NA | 34.0–39.2 | 24.1 | 15.5 | 61.5 | 37.9 | 76.8 |\n",
       "| - | University of Windsor               | NA | NA | NA | NA | NA | 34.0–39.2 | 35.1 | 29.4 | 34.5 | 44.2 | 88.7 |\n",
       "| - | University of Wolverhampton         | NA | NA | NA | NA | NA | 34.0–39.2 | 18.2 | 14.3 | 68.8 | 37.3 | 72.0 |\n",
       "| - | University of Wuppertal             | NA | NA | NA | NA | NA | 34.0–39.2 | 26.4 | 26.7 | 52.8 | 52.1 | 47.6 |\n",
       "| - | Xi’an Jiaotong-Liverpool University | NA | NA | NA | NA | NA | 34.0–39.2 | 17.8 | 14.8 | 68.2 | 38.2 | 72.4 |\n",
       "\n"
      ],
      "text/plain": [
       "  University Rank Name of University                  Location No of student\n",
       "1 -               University of the Western Cape      NA       NA           \n",
       "2 -               University of the West of Scotland  NA       NA           \n",
       "3 -               University of Windsor               NA       NA           \n",
       "4 -               University of Wolverhampton         NA       NA           \n",
       "5 -               University of Wuppertal             NA       NA           \n",
       "6 -               Xi’an Jiaotong-Liverpool University NA       NA           \n",
       "  No of student per staff International Student Female:Male Ratio OverAll Score\n",
       "1 NA                      NA                    NA                34.0–39.2    \n",
       "2 NA                      NA                    NA                34.0–39.2    \n",
       "3 NA                      NA                    NA                34.0–39.2    \n",
       "4 NA                      NA                    NA                34.0–39.2    \n",
       "5 NA                      NA                    NA                34.0–39.2    \n",
       "6 NA                      NA                    NA                34.0–39.2    \n",
       "  Teaching Score Research Score Citations Score Industry Income Score\n",
       "1 20.4           23.7           61.6            36.9                 \n",
       "2 24.1           15.5           61.5            37.9                 \n",
       "3 35.1           29.4           34.5            44.2                 \n",
       "4 18.2           14.3           68.8            37.3                 \n",
       "5 26.4           26.7           52.8            52.1                 \n",
       "6 17.8           14.8           68.2            38.2                 \n",
       "  International Outlook Score\n",
       "1 55.8                       \n",
       "2 76.8                       \n",
       "3 88.7                       \n",
       "4 72.0                       \n",
       "5 47.6                       \n",
       "6 72.4                       "
      ]
     },
     "metadata": {},
     "output_type": "display_data"
    }
   ],
   "source": [
    "tail(data)\n",
    "data[data == \"n/a\"]  <- NA\n",
    "tidy_data <- na.omit(data)"
   ]
  },
  {
   "cell_type": "markdown",
   "id": "9369a773-8cc7-40b1-b020-a8b668f52198",
   "metadata": {},
   "source": [
    "Now when we view the last rows of our data, all NA observations have been removed:"
   ]
  },
  {
   "cell_type": "code",
   "execution_count": 40,
   "id": "33912430-7e4d-4b43-bfa1-33c543e6f5f7",
   "metadata": {
    "scrolled": true
   },
   "outputs": [
    {
     "data": {
      "text/html": [
       "<table class=\"dataframe\">\n",
       "<caption>A tibble: 6 × 13</caption>\n",
       "<thead>\n",
       "\t<tr><th scope=col>University Rank</th><th scope=col>Name of University</th><th scope=col>Location</th><th scope=col>No of student</th><th scope=col>No of student per staff</th><th scope=col>International Student</th><th scope=col>Female:Male Ratio</th><th scope=col>OverAll Score</th><th scope=col>Teaching Score</th><th scope=col>Research Score</th><th scope=col>Citations Score</th><th scope=col>Industry Income Score</th><th scope=col>International Outlook Score</th></tr>\n",
       "\t<tr><th scope=col>&lt;chr&gt;</th><th scope=col>&lt;chr&gt;</th><th scope=col>&lt;chr&gt;</th><th scope=col>&lt;dbl&gt;</th><th scope=col>&lt;dbl&gt;</th><th scope=col>&lt;chr&gt;</th><th scope=col>&lt;chr&gt;</th><th scope=col>&lt;chr&gt;</th><th scope=col>&lt;chr&gt;</th><th scope=col>&lt;chr&gt;</th><th scope=col>&lt;chr&gt;</th><th scope=col>&lt;chr&gt;</th><th scope=col>&lt;chr&gt;</th></tr>\n",
       "</thead>\n",
       "<tbody>\n",
       "\t<tr><td>1501+</td><td>West University of Timişoara                </td><td>Romania</td><td>14527</td><td>24.6</td><td>6%</td><td>66 : 34</td><td>10.4–18.3</td><td>18.7</td><td>13.4</td><td>16.8</td><td>37.7</td><td>28.7</td></tr>\n",
       "\t<tr><td>1501+</td><td>Wrocław University of Science and Technology</td><td>Poland </td><td>23657</td><td>20.3</td><td>6%</td><td>35 : 65</td><td>10.4–18.3</td><td>17.9</td><td>16.0</td><td>14.9</td><td>45.5</td><td>27.3</td></tr>\n",
       "\t<tr><td>1501+</td><td>Yamaguchi University                        </td><td>Japan  </td><td>10724</td><td>11.1</td><td>7%</td><td>38 : 62</td><td>10.4–18.3</td><td>21.3</td><td>12.3</td><td>13.9</td><td>43.8</td><td>30.4</td></tr>\n",
       "\t<tr><td>1501+</td><td>Yanshan University                          </td><td>China  </td><td>38649</td><td>13.2</td><td>1%</td><td>39 : 61</td><td>10.4–18.3</td><td>17.2</td><td>10.9</td><td>18.3</td><td>46.9</td><td>17.0</td></tr>\n",
       "\t<tr><td>1501+</td><td>Yeditepe University                         </td><td>Turkey </td><td>17038</td><td>28.2</td><td>5%</td><td>55 : 45</td><td>10.4–18.3</td><td>18.8</td><td>12.2</td><td>10.5</td><td>65.7</td><td>29.6</td></tr>\n",
       "\t<tr><td>1501+</td><td>Zonguldak Bülent Ecevit University          </td><td>Turkey </td><td>28319</td><td>25.4</td><td>8%</td><td>47 : 53</td><td>10.4–18.3</td><td>13.2</td><td>8.2 </td><td>23.5</td><td>38.9</td><td>23.1</td></tr>\n",
       "</tbody>\n",
       "</table>\n"
      ],
      "text/latex": [
       "A tibble: 6 × 13\n",
       "\\begin{tabular}{lllllllllllll}\n",
       " University Rank & Name of University & Location & No of student & No of student per staff & International Student & Female:Male Ratio & OverAll Score & Teaching Score & Research Score & Citations Score & Industry Income Score & International Outlook Score\\\\\n",
       " <chr> & <chr> & <chr> & <dbl> & <dbl> & <chr> & <chr> & <chr> & <chr> & <chr> & <chr> & <chr> & <chr>\\\\\n",
       "\\hline\n",
       "\t 1501+ & West University of Timişoara                 & Romania & 14527 & 24.6 & 6\\% & 66 : 34 & 10.4–18.3 & 18.7 & 13.4 & 16.8 & 37.7 & 28.7\\\\\n",
       "\t 1501+ & Wrocław University of Science and Technology & Poland  & 23657 & 20.3 & 6\\% & 35 : 65 & 10.4–18.3 & 17.9 & 16.0 & 14.9 & 45.5 & 27.3\\\\\n",
       "\t 1501+ & Yamaguchi University                         & Japan   & 10724 & 11.1 & 7\\% & 38 : 62 & 10.4–18.3 & 21.3 & 12.3 & 13.9 & 43.8 & 30.4\\\\\n",
       "\t 1501+ & Yanshan University                           & China   & 38649 & 13.2 & 1\\% & 39 : 61 & 10.4–18.3 & 17.2 & 10.9 & 18.3 & 46.9 & 17.0\\\\\n",
       "\t 1501+ & Yeditepe University                          & Turkey  & 17038 & 28.2 & 5\\% & 55 : 45 & 10.4–18.3 & 18.8 & 12.2 & 10.5 & 65.7 & 29.6\\\\\n",
       "\t 1501+ & Zonguldak Bülent Ecevit University           & Turkey  & 28319 & 25.4 & 8\\% & 47 : 53 & 10.4–18.3 & 13.2 & 8.2  & 23.5 & 38.9 & 23.1\\\\\n",
       "\\end{tabular}\n"
      ],
      "text/markdown": [
       "\n",
       "A tibble: 6 × 13\n",
       "\n",
       "| University Rank &lt;chr&gt; | Name of University &lt;chr&gt; | Location &lt;chr&gt; | No of student &lt;dbl&gt; | No of student per staff &lt;dbl&gt; | International Student &lt;chr&gt; | Female:Male Ratio &lt;chr&gt; | OverAll Score &lt;chr&gt; | Teaching Score &lt;chr&gt; | Research Score &lt;chr&gt; | Citations Score &lt;chr&gt; | Industry Income Score &lt;chr&gt; | International Outlook Score &lt;chr&gt; |\n",
       "|---|---|---|---|---|---|---|---|---|---|---|---|---|\n",
       "| 1501+ | West University of Timişoara                 | Romania | 14527 | 24.6 | 6% | 66 : 34 | 10.4–18.3 | 18.7 | 13.4 | 16.8 | 37.7 | 28.7 |\n",
       "| 1501+ | Wrocław University of Science and Technology | Poland  | 23657 | 20.3 | 6% | 35 : 65 | 10.4–18.3 | 17.9 | 16.0 | 14.9 | 45.5 | 27.3 |\n",
       "| 1501+ | Yamaguchi University                         | Japan   | 10724 | 11.1 | 7% | 38 : 62 | 10.4–18.3 | 21.3 | 12.3 | 13.9 | 43.8 | 30.4 |\n",
       "| 1501+ | Yanshan University                           | China   | 38649 | 13.2 | 1% | 39 : 61 | 10.4–18.3 | 17.2 | 10.9 | 18.3 | 46.9 | 17.0 |\n",
       "| 1501+ | Yeditepe University                          | Turkey  | 17038 | 28.2 | 5% | 55 : 45 | 10.4–18.3 | 18.8 | 12.2 | 10.5 | 65.7 | 29.6 |\n",
       "| 1501+ | Zonguldak Bülent Ecevit University           | Turkey  | 28319 | 25.4 | 8% | 47 : 53 | 10.4–18.3 | 13.2 | 8.2  | 23.5 | 38.9 | 23.1 |\n",
       "\n"
      ],
      "text/plain": [
       "  University Rank Name of University                           Location\n",
       "1 1501+           West University of Timişoara                 Romania \n",
       "2 1501+           Wrocław University of Science and Technology Poland  \n",
       "3 1501+           Yamaguchi University                         Japan   \n",
       "4 1501+           Yanshan University                           China   \n",
       "5 1501+           Yeditepe University                          Turkey  \n",
       "6 1501+           Zonguldak Bülent Ecevit University           Turkey  \n",
       "  No of student No of student per staff International Student Female:Male Ratio\n",
       "1 14527         24.6                    6%                    66 : 34          \n",
       "2 23657         20.3                    6%                    35 : 65          \n",
       "3 10724         11.1                    7%                    38 : 62          \n",
       "4 38649         13.2                    1%                    39 : 61          \n",
       "5 17038         28.2                    5%                    55 : 45          \n",
       "6 28319         25.4                    8%                    47 : 53          \n",
       "  OverAll Score Teaching Score Research Score Citations Score\n",
       "1 10.4–18.3     18.7           13.4           16.8           \n",
       "2 10.4–18.3     17.9           16.0           14.9           \n",
       "3 10.4–18.3     21.3           12.3           13.9           \n",
       "4 10.4–18.3     17.2           10.9           18.3           \n",
       "5 10.4–18.3     18.8           12.2           10.5           \n",
       "6 10.4–18.3     13.2           8.2            23.5           \n",
       "  Industry Income Score International Outlook Score\n",
       "1 37.7                  28.7                       \n",
       "2 45.5                  27.3                       \n",
       "3 43.8                  30.4                       \n",
       "4 46.9                  17.0                       \n",
       "5 65.7                  29.6                       \n",
       "6 38.9                  23.1                       "
      ]
     },
     "metadata": {},
     "output_type": "display_data"
    }
   ],
   "source": [
    "tail(tidy_data)"
   ]
  },
  {
   "cell_type": "markdown",
   "id": "ae056e69-df01-4af4-ac68-8b60a8f21cb4",
   "metadata": {},
   "source": [
    "To simplify data handling for future visualizations etc., we will replace the spaces in the variable names with periods. We use make.names() to do this. "
   ]
  },
  {
   "cell_type": "code",
   "execution_count": 42,
   "id": "1792bb70-7708-4be4-ba79-fed53b8d123c",
   "metadata": {},
   "outputs": [
    {
     "data": {
      "text/html": [
       "<table class=\"dataframe\">\n",
       "<caption>A tibble: 6 × 13</caption>\n",
       "<thead>\n",
       "\t<tr><th scope=col>University.Rank</th><th scope=col>Name.of.University</th><th scope=col>Location</th><th scope=col>No.of.student</th><th scope=col>No.of.student.per.staff</th><th scope=col>International.Student</th><th scope=col>Female.Male.Ratio</th><th scope=col>OverAll.Score</th><th scope=col>Teaching.Score</th><th scope=col>Research.Score</th><th scope=col>Citations.Score</th><th scope=col>Industry.Income.Score</th><th scope=col>International.Outlook.Score</th></tr>\n",
       "\t<tr><th scope=col>&lt;chr&gt;</th><th scope=col>&lt;chr&gt;</th><th scope=col>&lt;chr&gt;</th><th scope=col>&lt;dbl&gt;</th><th scope=col>&lt;dbl&gt;</th><th scope=col>&lt;chr&gt;</th><th scope=col>&lt;chr&gt;</th><th scope=col>&lt;chr&gt;</th><th scope=col>&lt;chr&gt;</th><th scope=col>&lt;chr&gt;</th><th scope=col>&lt;chr&gt;</th><th scope=col>&lt;chr&gt;</th><th scope=col>&lt;chr&gt;</th></tr>\n",
       "</thead>\n",
       "<tbody>\n",
       "\t<tr><td>1</td><td>University of Oxford                 </td><td>United Kingdom</td><td>20965</td><td>10.6</td><td>42%</td><td>48 : 52</td><td>96.4</td><td>92.3</td><td>99.7</td><td>99.0</td><td>74.9</td><td>96.2</td></tr>\n",
       "\t<tr><td>2</td><td>Harvard University                   </td><td>United States </td><td>21887</td><td> 9.6</td><td>25%</td><td>50 : 50</td><td>95.2</td><td>94.8</td><td>99.0</td><td>99.3</td><td>49.5</td><td>80.5</td></tr>\n",
       "\t<tr><td>3</td><td>University of Cambridge              </td><td>United Kingdom</td><td>20185</td><td>11.3</td><td>39%</td><td>47 : 53</td><td>94.8</td><td>90.9</td><td>99.5</td><td>97.0</td><td>54.2</td><td>95.8</td></tr>\n",
       "\t<tr><td>3</td><td>Stanford University                  </td><td>United States </td><td>16164</td><td> 7.1</td><td>24%</td><td>46 : 54</td><td>94.8</td><td>94.2</td><td>96.7</td><td>99.8</td><td>65.0</td><td>79.8</td></tr>\n",
       "\t<tr><td>5</td><td>Massachusetts Institute of Technology</td><td>United States </td><td>11415</td><td> 8.2</td><td>33%</td><td>40 : 60</td><td>94.2</td><td>90.7</td><td>93.6</td><td>99.8</td><td>90.9</td><td>89.3</td></tr>\n",
       "\t<tr><td>6</td><td>California Institute of Technology   </td><td>United States </td><td> 2237</td><td> 6.2</td><td>34%</td><td>37 : 63</td><td>94.1</td><td>90.9</td><td>97.0</td><td>97.3</td><td>89.8</td><td>83.6</td></tr>\n",
       "</tbody>\n",
       "</table>\n"
      ],
      "text/latex": [
       "A tibble: 6 × 13\n",
       "\\begin{tabular}{lllllllllllll}\n",
       " University.Rank & Name.of.University & Location & No.of.student & No.of.student.per.staff & International.Student & Female.Male.Ratio & OverAll.Score & Teaching.Score & Research.Score & Citations.Score & Industry.Income.Score & International.Outlook.Score\\\\\n",
       " <chr> & <chr> & <chr> & <dbl> & <dbl> & <chr> & <chr> & <chr> & <chr> & <chr> & <chr> & <chr> & <chr>\\\\\n",
       "\\hline\n",
       "\t 1 & University of Oxford                  & United Kingdom & 20965 & 10.6 & 42\\% & 48 : 52 & 96.4 & 92.3 & 99.7 & 99.0 & 74.9 & 96.2\\\\\n",
       "\t 2 & Harvard University                    & United States  & 21887 &  9.6 & 25\\% & 50 : 50 & 95.2 & 94.8 & 99.0 & 99.3 & 49.5 & 80.5\\\\\n",
       "\t 3 & University of Cambridge               & United Kingdom & 20185 & 11.3 & 39\\% & 47 : 53 & 94.8 & 90.9 & 99.5 & 97.0 & 54.2 & 95.8\\\\\n",
       "\t 3 & Stanford University                   & United States  & 16164 &  7.1 & 24\\% & 46 : 54 & 94.8 & 94.2 & 96.7 & 99.8 & 65.0 & 79.8\\\\\n",
       "\t 5 & Massachusetts Institute of Technology & United States  & 11415 &  8.2 & 33\\% & 40 : 60 & 94.2 & 90.7 & 93.6 & 99.8 & 90.9 & 89.3\\\\\n",
       "\t 6 & California Institute of Technology    & United States  &  2237 &  6.2 & 34\\% & 37 : 63 & 94.1 & 90.9 & 97.0 & 97.3 & 89.8 & 83.6\\\\\n",
       "\\end{tabular}\n"
      ],
      "text/markdown": [
       "\n",
       "A tibble: 6 × 13\n",
       "\n",
       "| University.Rank &lt;chr&gt; | Name.of.University &lt;chr&gt; | Location &lt;chr&gt; | No.of.student &lt;dbl&gt; | No.of.student.per.staff &lt;dbl&gt; | International.Student &lt;chr&gt; | Female.Male.Ratio &lt;chr&gt; | OverAll.Score &lt;chr&gt; | Teaching.Score &lt;chr&gt; | Research.Score &lt;chr&gt; | Citations.Score &lt;chr&gt; | Industry.Income.Score &lt;chr&gt; | International.Outlook.Score &lt;chr&gt; |\n",
       "|---|---|---|---|---|---|---|---|---|---|---|---|---|\n",
       "| 1 | University of Oxford                  | United Kingdom | 20965 | 10.6 | 42% | 48 : 52 | 96.4 | 92.3 | 99.7 | 99.0 | 74.9 | 96.2 |\n",
       "| 2 | Harvard University                    | United States  | 21887 |  9.6 | 25% | 50 : 50 | 95.2 | 94.8 | 99.0 | 99.3 | 49.5 | 80.5 |\n",
       "| 3 | University of Cambridge               | United Kingdom | 20185 | 11.3 | 39% | 47 : 53 | 94.8 | 90.9 | 99.5 | 97.0 | 54.2 | 95.8 |\n",
       "| 3 | Stanford University                   | United States  | 16164 |  7.1 | 24% | 46 : 54 | 94.8 | 94.2 | 96.7 | 99.8 | 65.0 | 79.8 |\n",
       "| 5 | Massachusetts Institute of Technology | United States  | 11415 |  8.2 | 33% | 40 : 60 | 94.2 | 90.7 | 93.6 | 99.8 | 90.9 | 89.3 |\n",
       "| 6 | California Institute of Technology    | United States  |  2237 |  6.2 | 34% | 37 : 63 | 94.1 | 90.9 | 97.0 | 97.3 | 89.8 | 83.6 |\n",
       "\n"
      ],
      "text/plain": [
       "  University.Rank Name.of.University                    Location      \n",
       "1 1               University of Oxford                  United Kingdom\n",
       "2 2               Harvard University                    United States \n",
       "3 3               University of Cambridge               United Kingdom\n",
       "4 3               Stanford University                   United States \n",
       "5 5               Massachusetts Institute of Technology United States \n",
       "6 6               California Institute of Technology    United States \n",
       "  No.of.student No.of.student.per.staff International.Student Female.Male.Ratio\n",
       "1 20965         10.6                    42%                   48 : 52          \n",
       "2 21887          9.6                    25%                   50 : 50          \n",
       "3 20185         11.3                    39%                   47 : 53          \n",
       "4 16164          7.1                    24%                   46 : 54          \n",
       "5 11415          8.2                    33%                   40 : 60          \n",
       "6  2237          6.2                    34%                   37 : 63          \n",
       "  OverAll.Score Teaching.Score Research.Score Citations.Score\n",
       "1 96.4          92.3           99.7           99.0           \n",
       "2 95.2          94.8           99.0           99.3           \n",
       "3 94.8          90.9           99.5           97.0           \n",
       "4 94.8          94.2           96.7           99.8           \n",
       "5 94.2          90.7           93.6           99.8           \n",
       "6 94.1          90.9           97.0           97.3           \n",
       "  Industry.Income.Score International.Outlook.Score\n",
       "1 74.9                  96.2                       \n",
       "2 49.5                  80.5                       \n",
       "3 54.2                  95.8                       \n",
       "4 65.0                  79.8                       \n",
       "5 90.9                  89.3                       \n",
       "6 89.8                  83.6                       "
      ]
     },
     "metadata": {},
     "output_type": "display_data"
    }
   ],
   "source": [
    "names(tidy_data) <- make.names(names(tidy_data))\n",
    "\n",
    "head(tidy_data)"
   ]
  },
  {
   "cell_type": "markdown",
   "id": "56cb1b4b-9026-481f-86f1-9cae769ce641",
   "metadata": {},
   "source": [
    "We use duplicated() to check if there's any duplicate observations. With a FALSE output, we know each observation is unique. "
   ]
  },
  {
   "cell_type": "code",
   "execution_count": 43,
   "id": "c5a99b35-b408-48bc-8790-76190d74f6a5",
   "metadata": {},
   "outputs": [
    {
     "data": {
      "text/plain": [
       "   Mode   FALSE \n",
       "logical    1488 "
      ]
     },
     "metadata": {},
     "output_type": "display_data"
    }
   ],
   "source": [
    "duplicated_rows <- duplicated(tidy_data)\n",
    "summary(duplicated_rows)"
   ]
  },
  {
   "cell_type": "markdown",
   "id": "255bc182-0f40-448b-b4b6-6a344162833d",
   "metadata": {},
   "source": [
    "In order to simplify the process of handling and visualizing data, we will convert the Female to Male Ratio to a single numerical value. Here, we will divide the female count by the total count. Ex. For a 48 : 52 Female to Male Ratio, the result would be 48/(48 + 52) = 0.48 "
   ]
  },
  {
   "cell_type": "code",
   "execution_count": 44,
   "id": "121b29a0-663e-4166-90b4-4769314d1ac2",
   "metadata": {},
   "outputs": [
    {
     "data": {
      "text/html": [
       "<table class=\"dataframe\">\n",
       "<caption>A tibble: 6 × 13</caption>\n",
       "<thead>\n",
       "\t<tr><th scope=col>University.Rank</th><th scope=col>Name.of.University</th><th scope=col>Location</th><th scope=col>No.of.student</th><th scope=col>No.of.student.per.staff</th><th scope=col>International.Student</th><th scope=col>Female.Male.Ratio</th><th scope=col>OverAll.Score</th><th scope=col>Teaching.Score</th><th scope=col>Research.Score</th><th scope=col>Citations.Score</th><th scope=col>Industry.Income.Score</th><th scope=col>International.Outlook.Score</th></tr>\n",
       "\t<tr><th scope=col>&lt;chr&gt;</th><th scope=col>&lt;chr&gt;</th><th scope=col>&lt;chr&gt;</th><th scope=col>&lt;dbl&gt;</th><th scope=col>&lt;dbl&gt;</th><th scope=col>&lt;chr&gt;</th><th scope=col>&lt;dbl&gt;</th><th scope=col>&lt;chr&gt;</th><th scope=col>&lt;chr&gt;</th><th scope=col>&lt;chr&gt;</th><th scope=col>&lt;chr&gt;</th><th scope=col>&lt;chr&gt;</th><th scope=col>&lt;chr&gt;</th></tr>\n",
       "</thead>\n",
       "<tbody>\n",
       "\t<tr><td>1</td><td>University of Oxford                 </td><td>United Kingdom</td><td>20965</td><td>10.6</td><td>42%</td><td>0.48</td><td>96.4</td><td>92.3</td><td>99.7</td><td>99.0</td><td>74.9</td><td>96.2</td></tr>\n",
       "\t<tr><td>2</td><td>Harvard University                   </td><td>United States </td><td>21887</td><td> 9.6</td><td>25%</td><td>0.50</td><td>95.2</td><td>94.8</td><td>99.0</td><td>99.3</td><td>49.5</td><td>80.5</td></tr>\n",
       "\t<tr><td>3</td><td>University of Cambridge              </td><td>United Kingdom</td><td>20185</td><td>11.3</td><td>39%</td><td>0.47</td><td>94.8</td><td>90.9</td><td>99.5</td><td>97.0</td><td>54.2</td><td>95.8</td></tr>\n",
       "\t<tr><td>3</td><td>Stanford University                  </td><td>United States </td><td>16164</td><td> 7.1</td><td>24%</td><td>0.46</td><td>94.8</td><td>94.2</td><td>96.7</td><td>99.8</td><td>65.0</td><td>79.8</td></tr>\n",
       "\t<tr><td>5</td><td>Massachusetts Institute of Technology</td><td>United States </td><td>11415</td><td> 8.2</td><td>33%</td><td>0.40</td><td>94.2</td><td>90.7</td><td>93.6</td><td>99.8</td><td>90.9</td><td>89.3</td></tr>\n",
       "\t<tr><td>6</td><td>California Institute of Technology   </td><td>United States </td><td> 2237</td><td> 6.2</td><td>34%</td><td>0.37</td><td>94.1</td><td>90.9</td><td>97.0</td><td>97.3</td><td>89.8</td><td>83.6</td></tr>\n",
       "</tbody>\n",
       "</table>\n"
      ],
      "text/latex": [
       "A tibble: 6 × 13\n",
       "\\begin{tabular}{lllllllllllll}\n",
       " University.Rank & Name.of.University & Location & No.of.student & No.of.student.per.staff & International.Student & Female.Male.Ratio & OverAll.Score & Teaching.Score & Research.Score & Citations.Score & Industry.Income.Score & International.Outlook.Score\\\\\n",
       " <chr> & <chr> & <chr> & <dbl> & <dbl> & <chr> & <dbl> & <chr> & <chr> & <chr> & <chr> & <chr> & <chr>\\\\\n",
       "\\hline\n",
       "\t 1 & University of Oxford                  & United Kingdom & 20965 & 10.6 & 42\\% & 0.48 & 96.4 & 92.3 & 99.7 & 99.0 & 74.9 & 96.2\\\\\n",
       "\t 2 & Harvard University                    & United States  & 21887 &  9.6 & 25\\% & 0.50 & 95.2 & 94.8 & 99.0 & 99.3 & 49.5 & 80.5\\\\\n",
       "\t 3 & University of Cambridge               & United Kingdom & 20185 & 11.3 & 39\\% & 0.47 & 94.8 & 90.9 & 99.5 & 97.0 & 54.2 & 95.8\\\\\n",
       "\t 3 & Stanford University                   & United States  & 16164 &  7.1 & 24\\% & 0.46 & 94.8 & 94.2 & 96.7 & 99.8 & 65.0 & 79.8\\\\\n",
       "\t 5 & Massachusetts Institute of Technology & United States  & 11415 &  8.2 & 33\\% & 0.40 & 94.2 & 90.7 & 93.6 & 99.8 & 90.9 & 89.3\\\\\n",
       "\t 6 & California Institute of Technology    & United States  &  2237 &  6.2 & 34\\% & 0.37 & 94.1 & 90.9 & 97.0 & 97.3 & 89.8 & 83.6\\\\\n",
       "\\end{tabular}\n"
      ],
      "text/markdown": [
       "\n",
       "A tibble: 6 × 13\n",
       "\n",
       "| University.Rank &lt;chr&gt; | Name.of.University &lt;chr&gt; | Location &lt;chr&gt; | No.of.student &lt;dbl&gt; | No.of.student.per.staff &lt;dbl&gt; | International.Student &lt;chr&gt; | Female.Male.Ratio &lt;dbl&gt; | OverAll.Score &lt;chr&gt; | Teaching.Score &lt;chr&gt; | Research.Score &lt;chr&gt; | Citations.Score &lt;chr&gt; | Industry.Income.Score &lt;chr&gt; | International.Outlook.Score &lt;chr&gt; |\n",
       "|---|---|---|---|---|---|---|---|---|---|---|---|---|\n",
       "| 1 | University of Oxford                  | United Kingdom | 20965 | 10.6 | 42% | 0.48 | 96.4 | 92.3 | 99.7 | 99.0 | 74.9 | 96.2 |\n",
       "| 2 | Harvard University                    | United States  | 21887 |  9.6 | 25% | 0.50 | 95.2 | 94.8 | 99.0 | 99.3 | 49.5 | 80.5 |\n",
       "| 3 | University of Cambridge               | United Kingdom | 20185 | 11.3 | 39% | 0.47 | 94.8 | 90.9 | 99.5 | 97.0 | 54.2 | 95.8 |\n",
       "| 3 | Stanford University                   | United States  | 16164 |  7.1 | 24% | 0.46 | 94.8 | 94.2 | 96.7 | 99.8 | 65.0 | 79.8 |\n",
       "| 5 | Massachusetts Institute of Technology | United States  | 11415 |  8.2 | 33% | 0.40 | 94.2 | 90.7 | 93.6 | 99.8 | 90.9 | 89.3 |\n",
       "| 6 | California Institute of Technology    | United States  |  2237 |  6.2 | 34% | 0.37 | 94.1 | 90.9 | 97.0 | 97.3 | 89.8 | 83.6 |\n",
       "\n"
      ],
      "text/plain": [
       "  University.Rank Name.of.University                    Location      \n",
       "1 1               University of Oxford                  United Kingdom\n",
       "2 2               Harvard University                    United States \n",
       "3 3               University of Cambridge               United Kingdom\n",
       "4 3               Stanford University                   United States \n",
       "5 5               Massachusetts Institute of Technology United States \n",
       "6 6               California Institute of Technology    United States \n",
       "  No.of.student No.of.student.per.staff International.Student Female.Male.Ratio\n",
       "1 20965         10.6                    42%                   0.48             \n",
       "2 21887          9.6                    25%                   0.50             \n",
       "3 20185         11.3                    39%                   0.47             \n",
       "4 16164          7.1                    24%                   0.46             \n",
       "5 11415          8.2                    33%                   0.40             \n",
       "6  2237          6.2                    34%                   0.37             \n",
       "  OverAll.Score Teaching.Score Research.Score Citations.Score\n",
       "1 96.4          92.3           99.7           99.0           \n",
       "2 95.2          94.8           99.0           99.3           \n",
       "3 94.8          90.9           99.5           97.0           \n",
       "4 94.8          94.2           96.7           99.8           \n",
       "5 94.2          90.7           93.6           99.8           \n",
       "6 94.1          90.9           97.0           97.3           \n",
       "  Industry.Income.Score International.Outlook.Score\n",
       "1 74.9                  96.2                       \n",
       "2 49.5                  80.5                       \n",
       "3 54.2                  95.8                       \n",
       "4 65.0                  79.8                       \n",
       "5 90.9                  89.3                       \n",
       "6 89.8                  83.6                       "
      ]
     },
     "metadata": {},
     "output_type": "display_data"
    }
   ],
   "source": [
    "tidy_data$Female.Male.Ratio <- sapply(strsplit(tidy_data$Female.Male.Ratio, \":\"), function(x) as.numeric(x[1])/(as.numeric(x[2]) + as.numeric(x[1])))\n",
    "\n",
    "head(tidy_data)"
   ]
  },
  {
   "cell_type": "code",
   "execution_count": 45,
   "id": "6d14edc0-2dc9-4b9b-a742-1c2031672ee7",
   "metadata": {},
   "outputs": [
    {
     "data": {
      "text/html": [
       "<table class=\"dataframe\">\n",
       "<caption>A tibble: 6 × 9</caption>\n",
       "<thead>\n",
       "\t<tr><th scope=col>No.of.student</th><th scope=col>Industry.Income.Score</th><th scope=col>University.Rank</th><th scope=col>Female.Male.Ratio</th><th scope=col>International.Outlook.Score</th><th scope=col>No.of.student.per.staff</th><th scope=col>Teaching.Score</th><th scope=col>Research.Score</th><th scope=col>Citations.Score</th></tr>\n",
       "\t<tr><th scope=col>&lt;dbl&gt;</th><th scope=col>&lt;chr&gt;</th><th scope=col>&lt;chr&gt;</th><th scope=col>&lt;dbl&gt;</th><th scope=col>&lt;chr&gt;</th><th scope=col>&lt;dbl&gt;</th><th scope=col>&lt;chr&gt;</th><th scope=col>&lt;chr&gt;</th><th scope=col>&lt;chr&gt;</th></tr>\n",
       "</thead>\n",
       "<tbody>\n",
       "\t<tr><td>14527</td><td>37.7</td><td>1501+</td><td>0.66</td><td>28.7</td><td>24.6</td><td>18.7</td><td>13.4</td><td>16.8</td></tr>\n",
       "\t<tr><td>23657</td><td>45.5</td><td>1501+</td><td>0.35</td><td>27.3</td><td>20.3</td><td>17.9</td><td>16.0</td><td>14.9</td></tr>\n",
       "\t<tr><td>10724</td><td>43.8</td><td>1501+</td><td>0.38</td><td>30.4</td><td>11.1</td><td>21.3</td><td>12.3</td><td>13.9</td></tr>\n",
       "\t<tr><td>38649</td><td>46.9</td><td>1501+</td><td>0.39</td><td>17.0</td><td>13.2</td><td>17.2</td><td>10.9</td><td>18.3</td></tr>\n",
       "\t<tr><td>17038</td><td>65.7</td><td>1501+</td><td>0.55</td><td>29.6</td><td>28.2</td><td>18.8</td><td>12.2</td><td>10.5</td></tr>\n",
       "\t<tr><td>28319</td><td>38.9</td><td>1501+</td><td>0.47</td><td>23.1</td><td>25.4</td><td>13.2</td><td>8.2 </td><td>23.5</td></tr>\n",
       "</tbody>\n",
       "</table>\n"
      ],
      "text/latex": [
       "A tibble: 6 × 9\n",
       "\\begin{tabular}{lllllllll}\n",
       " No.of.student & Industry.Income.Score & University.Rank & Female.Male.Ratio & International.Outlook.Score & No.of.student.per.staff & Teaching.Score & Research.Score & Citations.Score\\\\\n",
       " <dbl> & <chr> & <chr> & <dbl> & <chr> & <dbl> & <chr> & <chr> & <chr>\\\\\n",
       "\\hline\n",
       "\t 14527 & 37.7 & 1501+ & 0.66 & 28.7 & 24.6 & 18.7 & 13.4 & 16.8\\\\\n",
       "\t 23657 & 45.5 & 1501+ & 0.35 & 27.3 & 20.3 & 17.9 & 16.0 & 14.9\\\\\n",
       "\t 10724 & 43.8 & 1501+ & 0.38 & 30.4 & 11.1 & 21.3 & 12.3 & 13.9\\\\\n",
       "\t 38649 & 46.9 & 1501+ & 0.39 & 17.0 & 13.2 & 17.2 & 10.9 & 18.3\\\\\n",
       "\t 17038 & 65.7 & 1501+ & 0.55 & 29.6 & 28.2 & 18.8 & 12.2 & 10.5\\\\\n",
       "\t 28319 & 38.9 & 1501+ & 0.47 & 23.1 & 25.4 & 13.2 & 8.2  & 23.5\\\\\n",
       "\\end{tabular}\n"
      ],
      "text/markdown": [
       "\n",
       "A tibble: 6 × 9\n",
       "\n",
       "| No.of.student &lt;dbl&gt; | Industry.Income.Score &lt;chr&gt; | University.Rank &lt;chr&gt; | Female.Male.Ratio &lt;dbl&gt; | International.Outlook.Score &lt;chr&gt; | No.of.student.per.staff &lt;dbl&gt; | Teaching.Score &lt;chr&gt; | Research.Score &lt;chr&gt; | Citations.Score &lt;chr&gt; |\n",
       "|---|---|---|---|---|---|---|---|---|\n",
       "| 14527 | 37.7 | 1501+ | 0.66 | 28.7 | 24.6 | 18.7 | 13.4 | 16.8 |\n",
       "| 23657 | 45.5 | 1501+ | 0.35 | 27.3 | 20.3 | 17.9 | 16.0 | 14.9 |\n",
       "| 10724 | 43.8 | 1501+ | 0.38 | 30.4 | 11.1 | 21.3 | 12.3 | 13.9 |\n",
       "| 38649 | 46.9 | 1501+ | 0.39 | 17.0 | 13.2 | 17.2 | 10.9 | 18.3 |\n",
       "| 17038 | 65.7 | 1501+ | 0.55 | 29.6 | 28.2 | 18.8 | 12.2 | 10.5 |\n",
       "| 28319 | 38.9 | 1501+ | 0.47 | 23.1 | 25.4 | 13.2 | 8.2  | 23.5 |\n",
       "\n"
      ],
      "text/plain": [
       "  No.of.student Industry.Income.Score University.Rank Female.Male.Ratio\n",
       "1 14527         37.7                  1501+           0.66             \n",
       "2 23657         45.5                  1501+           0.35             \n",
       "3 10724         43.8                  1501+           0.38             \n",
       "4 38649         46.9                  1501+           0.39             \n",
       "5 17038         65.7                  1501+           0.55             \n",
       "6 28319         38.9                  1501+           0.47             \n",
       "  International.Outlook.Score No.of.student.per.staff Teaching.Score\n",
       "1 28.7                        24.6                    18.7          \n",
       "2 27.3                        20.3                    17.9          \n",
       "3 30.4                        11.1                    21.3          \n",
       "4 17.0                        13.2                    17.2          \n",
       "5 29.6                        28.2                    18.8          \n",
       "6 23.1                        25.4                    13.2          \n",
       "  Research.Score Citations.Score\n",
       "1 13.4           16.8           \n",
       "2 16.0           14.9           \n",
       "3 12.3           13.9           \n",
       "4 10.9           18.3           \n",
       "5 12.2           10.5           \n",
       "6 8.2            23.5           "
      ]
     },
     "metadata": {},
     "output_type": "display_data"
    }
   ],
   "source": [
    "tidy_data <- tidy_data |> select(No.of.student, Industry.Income.Score,University.Rank, Female.Male.Ratio,International.Outlook.Score,No.of.student.per.staff,Teaching.Score,Research.Score,Citations.Score)\n",
    "tail(tidy_data)"
   ]
  },
  {
   "cell_type": "markdown",
   "id": "a7d6f3aa-068a-4f16-885a-d32ed90978a3",
   "metadata": {},
   "source": [
    "Here we see that the University.Rank values in the tail of tidy_data are not exact ranks. They are all grouped in categories. Using unique(), we can get an overview of all possible values of University.Rank. Unique ranks range from 1 to 198. Ranks past 198 are grouped into one of 11 ranges.\n",
    "\n",
    "The categories are quite large. For example, the rank 1201-1500 is very broad. Therefore, including this in our exploration would not bring more insight."
   ]
  },
  {
   "cell_type": "code",
   "execution_count": 10,
   "id": "8796a4c7-1a99-4a74-aaf5-36ea653c5a27",
   "metadata": {},
   "outputs": [
    {
     "name": "stdout",
     "output_type": "stream",
     "text": [
      "  [1] \"1\"         \"2\"         \"3\"         \"5\"         \"6\"         \"7\"        \n",
      "  [7] \"8\"         \"9\"         \"10\"        \"11\"        \"13\"        \"14\"       \n",
      " [13] \"15\"        \"18\"        \"20\"        \"21\"        \"22\"        \"23\"       \n",
      " [19] \"24\"        \"25\"        \"26\"        \"28\"        \"29\"        \"32\"       \n",
      " [25] \"34\"        \"35\"        \"36\"        \"37\"        \"38\"        \"40\"       \n",
      " [31] \"41\"        \"44\"        \"47\"        \"48\"        \"49\"        \"50\"       \n",
      " [37] \"51\"        \"52\"        \"54\"        \"57\"        \"59\"        \"60\"       \n",
      " [43] \"62\"        \"63\"        \"64\"        \"65\"        \"66\"        \"68\"       \n",
      " [49] \"69\"        \"70\"        \"71\"        \"73\"        \"82\"        \"86\"       \n",
      " [55] \"89\"        \"90\"        \"91\"        \"93\"        \"94\"        \"95\"       \n",
      " [61] \"98\"        \"99\"        \"101\"       \"104\"       \"106\"       \"107\"      \n",
      " [67] \"108\"       \"110\"       \"112\"       \"113\"       \"114\"       \"117\"      \n",
      " [73] \"119\"       \"121\"       \"122\"       \"123\"       \"124\"       \"126\"      \n",
      " [79] \"127\"       \"128\"       \"130\"       \"131\"       \"134\"       \"136\"      \n",
      " [85] \"137\"       \"139\"       \"144\"       \"145\"       \"147\"       \"148\"      \n",
      " [91] \"151\"       \"154\"       \"155\"       \"156\"       \"163\"       \"166\"      \n",
      " [97] \"168\"       \"170\"       \"175\"       \"180\"       \"181\"       \"182\"      \n",
      "[103] \"183\"       \"186\"       \"189\"       \"191\"       \"192\"       \"194\"      \n",
      "[109] \"196\"       \"198\"       \"201–250\"   \"251–300\"   \"301–350\"   \"351–400\"  \n",
      "[115] \"401–500\"   \"501–600\"   \"601–800\"   \"801–1000\"  \"1001–1200\" \"1201–1500\"\n",
      "[121] \"1501+\"    \n"
     ]
    }
   ],
   "source": [
    "unique_values <- unique(tidy_data$University.Rank)\n",
    "print(unique_values)"
   ]
  },
  {
   "cell_type": "markdown",
   "id": "c1238120-5582-449b-8906-e18bf1203a61",
   "metadata": {},
   "source": [
    "To remove these broad ranges, we use as.numeric() to convert the University Rank entries to numeric. Ranges will become NA values. We then remove these NA values using na.omit(). "
   ]
  },
  {
   "cell_type": "code",
   "execution_count": 11,
   "id": "c82f620c-30ab-485b-a703-40292f772db4",
   "metadata": {},
   "outputs": [
    {
     "name": "stderr",
     "output_type": "stream",
     "text": [
      "Warning message in eval(expr, envir, enclos):\n",
      "“NAs introduced by coercion”\n"
     ]
    },
    {
     "data": {
      "text/html": [
       "<table class=\"dataframe\">\n",
       "<caption>A tibble: 6 × 7</caption>\n",
       "<thead>\n",
       "\t<tr><th scope=col>University.Rank</th><th scope=col>Female.Male.Ratio</th><th scope=col>International.Outlook.Score</th><th scope=col>No.of.student.per.staff</th><th scope=col>Teaching.Score</th><th scope=col>Research.Score</th><th scope=col>Citations.Score</th></tr>\n",
       "\t<tr><th scope=col>&lt;dbl&gt;</th><th scope=col>&lt;dbl&gt;</th><th scope=col>&lt;chr&gt;</th><th scope=col>&lt;dbl&gt;</th><th scope=col>&lt;chr&gt;</th><th scope=col>&lt;chr&gt;</th><th scope=col>&lt;chr&gt;</th></tr>\n",
       "</thead>\n",
       "<tbody>\n",
       "\t<tr><td>192</td><td>0.47</td><td>67.9</td><td>22.6</td><td>32.6</td><td>33.3</td><td>95.9</td></tr>\n",
       "\t<tr><td>194</td><td>0.50</td><td>81.7</td><td> 8.4</td><td>35.0</td><td>27.6</td><td>94.0</td></tr>\n",
       "\t<tr><td>194</td><td>0.53</td><td>60.2</td><td>10.8</td><td>48.4</td><td>33.5</td><td>81.0</td></tr>\n",
       "\t<tr><td>196</td><td>0.51</td><td>53.5</td><td>43.4</td><td>44.6</td><td>47.5</td><td>68.8</td></tr>\n",
       "\t<tr><td>198</td><td>0.54</td><td>94.3</td><td>14.1</td><td>40.0</td><td>44.6</td><td>70.0</td></tr>\n",
       "\t<tr><td>198</td><td>0.56</td><td>93.3</td><td>16.4</td><td>36.5</td><td>39.6</td><td>78.5</td></tr>\n",
       "</tbody>\n",
       "</table>\n"
      ],
      "text/latex": [
       "A tibble: 6 × 7\n",
       "\\begin{tabular}{lllllll}\n",
       " University.Rank & Female.Male.Ratio & International.Outlook.Score & No.of.student.per.staff & Teaching.Score & Research.Score & Citations.Score\\\\\n",
       " <dbl> & <dbl> & <chr> & <dbl> & <chr> & <chr> & <chr>\\\\\n",
       "\\hline\n",
       "\t 192 & 0.47 & 67.9 & 22.6 & 32.6 & 33.3 & 95.9\\\\\n",
       "\t 194 & 0.50 & 81.7 &  8.4 & 35.0 & 27.6 & 94.0\\\\\n",
       "\t 194 & 0.53 & 60.2 & 10.8 & 48.4 & 33.5 & 81.0\\\\\n",
       "\t 196 & 0.51 & 53.5 & 43.4 & 44.6 & 47.5 & 68.8\\\\\n",
       "\t 198 & 0.54 & 94.3 & 14.1 & 40.0 & 44.6 & 70.0\\\\\n",
       "\t 198 & 0.56 & 93.3 & 16.4 & 36.5 & 39.6 & 78.5\\\\\n",
       "\\end{tabular}\n"
      ],
      "text/markdown": [
       "\n",
       "A tibble: 6 × 7\n",
       "\n",
       "| University.Rank &lt;dbl&gt; | Female.Male.Ratio &lt;dbl&gt; | International.Outlook.Score &lt;chr&gt; | No.of.student.per.staff &lt;dbl&gt; | Teaching.Score &lt;chr&gt; | Research.Score &lt;chr&gt; | Citations.Score &lt;chr&gt; |\n",
       "|---|---|---|---|---|---|---|\n",
       "| 192 | 0.47 | 67.9 | 22.6 | 32.6 | 33.3 | 95.9 |\n",
       "| 194 | 0.50 | 81.7 |  8.4 | 35.0 | 27.6 | 94.0 |\n",
       "| 194 | 0.53 | 60.2 | 10.8 | 48.4 | 33.5 | 81.0 |\n",
       "| 196 | 0.51 | 53.5 | 43.4 | 44.6 | 47.5 | 68.8 |\n",
       "| 198 | 0.54 | 94.3 | 14.1 | 40.0 | 44.6 | 70.0 |\n",
       "| 198 | 0.56 | 93.3 | 16.4 | 36.5 | 39.6 | 78.5 |\n",
       "\n"
      ],
      "text/plain": [
       "  University.Rank Female.Male.Ratio International.Outlook.Score\n",
       "1 192             0.47              67.9                       \n",
       "2 194             0.50              81.7                       \n",
       "3 194             0.53              60.2                       \n",
       "4 196             0.51              53.5                       \n",
       "5 198             0.54              94.3                       \n",
       "6 198             0.56              93.3                       \n",
       "  No.of.student.per.staff Teaching.Score Research.Score Citations.Score\n",
       "1 22.6                    32.6           33.3           95.9           \n",
       "2  8.4                    35.0           27.6           94.0           \n",
       "3 10.8                    48.4           33.5           81.0           \n",
       "4 43.4                    44.6           47.5           68.8           \n",
       "5 14.1                    40.0           44.6           70.0           \n",
       "6 16.4                    36.5           39.6           78.5           "
      ]
     },
     "metadata": {},
     "output_type": "display_data"
    }
   ],
   "source": [
    "tidy_data$University.Rank <- as.numeric(tidy_data$University.Rank)\n",
    "tidy_data <- na.omit(tidy_data)\n",
    "tail(tidy_data)"
   ]
  },
  {
   "cell_type": "markdown",
   "id": "38687ad9-f12a-4b04-94f9-b601a654f5bd",
   "metadata": {},
   "source": [
    "## Creating Visualizations:\n",
    "Here, we plot University Ranking vs. the Female to Male ratio. In the plot below, there is no evidence of a relationship. Gender ratios do not appear to affect ranking."
   ]
  },
  {
   "cell_type": "code",
   "execution_count": 23,
   "id": "a23b7647-5041-4d89-b0bb-0aeda3dcf2e9",
   "metadata": {},
   "outputs": [
    {
     "data": {
      "image/png": "[encoded data removed]",
      "text/plain": [
       "plot without title"
      ]
     },
     "metadata": {
      "image/png": {
       "height": 360,
       "width": 1080
      }
     },
     "output_type": "display_data"
    }
   ],
   "source": [
    "ggplot(tidy_data, aes(x=University.Rank, y=Female.Male.Ratio)) +\n",
    "       geom_point()+ scale_x_continuous(breaks = seq(0, 200, by = 5)) + labs(x = \"University Rank\", y = \"Female to Male Ratio\", title = \"University Ranking vs. Female to Male Ratio\") +\n",
    "       theme(axis.text = element_text(size = 12),  \n",
    "             axis.title = element_text(size = 20),  \n",
    "             plot.title = element_text(size = 25))  \n",
    "\n",
    "options(repr.plot.width = 18, repr.plot.height = 6)"
   ]
  },
  {
   "cell_type": "markdown",
   "id": "786c854c-ae63-474c-b55d-ffa0c0fa9701",
   "metadata": {},
   "source": [
    "We then plot Research and Teaching Scores vs. University Ranking. In the visualization below, research scores have been colored blue and teaching scores are red. There is a strong pattern of both scores with ranking. This is to be expected, as ranking is based on the overall score (of which Research and Teaching scores are factors in). \n",
    "\n",
    "The relationships do not appear to be strictly linear, as a slight curve is visible. "
   ]
  },
  {
   "cell_type": "code",
   "execution_count": 30,
   "id": "1c27cbab-a81c-436a-9fa8-67450a5f17c9",
   "metadata": {},
   "outputs": [
    {
     "name": "stderr",
     "output_type": "stream",
     "text": [
      "ERROR while rich displaying an object: \u001b[1m\u001b[33mError\u001b[39m in `scale_x_continuous()`:\u001b[22m\n",
      "\u001b[1m\u001b[22m\u001b[33m!\u001b[39m Discrete values supplied to continuous scale.\n",
      "\u001b[36mℹ\u001b[39m Example values: \u001b[34m\"92.3\"\u001b[39m, \u001b[34m\"94.8\"\u001b[39m, \u001b[34m\"90.9\"\u001b[39m, \u001b[34m\"94.2\"\u001b[39m, and \u001b[34m\"90.7\"\u001b[39m\n",
      "\n",
      "Traceback:\n",
      "1. tryCatch(withCallingHandlers({\n",
      " .     if (!mime %in% names(repr::mime2repr)) \n",
      " .         stop(\"No repr_* for mimetype \", mime, \" in repr::mime2repr\")\n",
      " .     rpr <- repr::mime2repr[[mime]](obj)\n",
      " .     if (is.null(rpr)) \n",
      " .         return(NULL)\n",
      " .     prepare_content(is.raw(rpr), rpr)\n",
      " . }, error = error_handler), error = outer_handler)\n",
      "2. tryCatchList(expr, classes, parentenv, handlers)\n",
      "3. tryCatchOne(expr, names, parentenv, handlers[[1L]])\n",
      "4. doTryCatch(return(expr), name, parentenv, handler)\n",
      "5. withCallingHandlers({\n",
      " .     if (!mime %in% names(repr::mime2repr)) \n",
      " .         stop(\"No repr_* for mimetype \", mime, \" in repr::mime2repr\")\n",
      " .     rpr <- repr::mime2repr[[mime]](obj)\n",
      " .     if (is.null(rpr)) \n",
      " .         return(NULL)\n",
      " .     prepare_content(is.raw(rpr), rpr)\n",
      " . }, error = error_handler)\n",
      "6. repr::mime2repr[[mime]](obj)\n",
      "7. repr_text.default(obj)\n",
      "8. paste(capture.output(print(obj)), collapse = \"\\n\")\n",
      "9. capture.output(print(obj))\n",
      "10. withVisible(...elt(i))\n",
      "11. print(obj)\n",
      "12. print.ggplot(obj)\n",
      "13. ggplot_build(x)\n",
      "14. ggplot_build.ggplot(x)\n",
      "15. layout$train_position(data, scale_x(), scale_y())\n",
      "16. train_position(..., self = self)\n",
      "17. self$facet$train_scales(self$panel_scales_x, self$panel_scales_y, \n",
      "  .     layout, data, self$facet_params)\n",
      "18. train_scales(...)\n",
      "19. scale_apply(layer_data, x_vars, \"train\", SCALE_X, x_scales)\n",
      "20. lapply(vars, function(var) {\n",
      "  .     pieces <- lapply(seq_along(scales), function(i) {\n",
      "  .         scales[[i]][[method]](data[[var]][scale_index[[i]]])\n",
      "  .     })\n",
      "  .     pieces[lengths(pieces) == 0] <- NULL\n",
      "  .     o <- order(unlist(scale_index))[seq_len(sum(lengths(pieces)))]\n",
      "  .     vec_c(!!!pieces)[o]\n",
      "  . })\n",
      "21. FUN(X[[i]], ...)\n",
      "22. lapply(seq_along(scales), function(i) {\n",
      "  .     scales[[i]][[method]](data[[var]][scale_index[[i]]])\n",
      "  . })\n",
      "23. FUN(X[[i]], ...)\n",
      "24. scales[[i]][[method]](data[[var]][scale_index[[i]]])\n",
      "25. train(..., self = self)\n",
      "26. cli::cli_abort(c(\"Discrete values supplied to continuous scale.\", \n",
      "  .     i = \"Example values: {.and {.val {head(x, 5)}}}\"), call = self$call)\n",
      "27. rlang::abort(message, ..., call = call, use_cli_format = TRUE, \n",
      "  .     .frame = .frame)\n",
      "28. signal_abort(cnd, .file)\n"
     ]
    }
   ],
   "source": [
    "ggplot(tidy_data, aes(x = Teaching.Score, y = University.Rank, color = \"Teaching.Score\")) +\n",
    "  geom_point() +\n",
    "  geom_point(aes(x = Research.Score, color = \"Research.Score\")) +\n",
    "  scale_x_continuous(limits = c(1, 100), breaks = seq(0, 100, by = 10)) +\n",
    "  labs(x = \"Score on a scale of 0-100\", y = \"University Ranking\", color = \"Variables\", title = \"Research and Teaching Scores vs. University Ranking\") +\n",
    "  scale_color_manual(values = c(\"blue\", \"red\")) +\n",
    "  theme(axis.text = element_text(size = 12),  \n",
    "        axis.title = element_text(size = 20),  \n",
    "        plot.title = element_text(size = 25),\n",
    "        legend.text = element_text(size = 15),\n",
    "        legend.title = element_text(size = 15))  \n",
    "\n",
    "options(repr.plot.width = 18, repr.plot.height = 6)"
   ]
  },
  {
   "cell_type": "markdown",
   "id": "54f2fdd2-0f79-478b-b189-5e339506876b",
   "metadata": {},
   "source": [
    "Below, we plot the research and teaching scores vs. the female to male ratio. The plot appears scattered for both scores. Although there seems to be a higher teaching and research score for a higher female to male ratio, the magnitude of difference is not very convincing."
   ]
  },
  {
   "cell_type": "code",
   "execution_count": 13,
   "id": "b4cec4c6-b439-4226-8995-ac606a264a74",
   "metadata": {},
   "outputs": [
    {
     "name": "stderr",
     "output_type": "stream",
     "text": [
      "ERROR while rich displaying an object: \u001b[1m\u001b[33mError\u001b[39m in `scale_x_continuous()`:\u001b[22m\n",
      "\u001b[1m\u001b[22m\u001b[33m!\u001b[39m Discrete values supplied to continuous scale.\n",
      "\u001b[36mℹ\u001b[39m Example values: \u001b[34m\"92.3\"\u001b[39m, \u001b[34m\"94.8\"\u001b[39m, \u001b[34m\"90.9\"\u001b[39m, \u001b[34m\"94.2\"\u001b[39m, and \u001b[34m\"90.7\"\u001b[39m\n",
      "\n",
      "Traceback:\n",
      "1. tryCatch(withCallingHandlers({\n",
      " .     if (!mime %in% names(repr::mime2repr)) \n",
      " .         stop(\"No repr_* for mimetype \", mime, \" in repr::mime2repr\")\n",
      " .     rpr <- repr::mime2repr[[mime]](obj)\n",
      " .     if (is.null(rpr)) \n",
      " .         return(NULL)\n",
      " .     prepare_content(is.raw(rpr), rpr)\n",
      " . }, error = error_handler), error = outer_handler)\n",
      "2. tryCatchList(expr, classes, parentenv, handlers)\n",
      "3. tryCatchOne(expr, names, parentenv, handlers[[1L]])\n",
      "4. doTryCatch(return(expr), name, parentenv, handler)\n",
      "5. withCallingHandlers({\n",
      " .     if (!mime %in% names(repr::mime2repr)) \n",
      " .         stop(\"No repr_* for mimetype \", mime, \" in repr::mime2repr\")\n",
      " .     rpr <- repr::mime2repr[[mime]](obj)\n",
      " .     if (is.null(rpr)) \n",
      " .         return(NULL)\n",
      " .     prepare_content(is.raw(rpr), rpr)\n",
      " . }, error = error_handler)\n",
      "6. repr::mime2repr[[mime]](obj)\n",
      "7. repr_text.default(obj)\n",
      "8. paste(capture.output(print(obj)), collapse = \"\\n\")\n",
      "9. capture.output(print(obj))\n",
      "10. withVisible(...elt(i))\n",
      "11. print(obj)\n",
      "12. print.ggplot(obj)\n",
      "13. ggplot_build(x)\n",
      "14. ggplot_build.ggplot(x)\n",
      "15. layout$train_position(data, scale_x(), scale_y())\n",
      "16. train_position(..., self = self)\n",
      "17. self$facet$train_scales(self$panel_scales_x, self$panel_scales_y, \n",
      "  .     layout, data, self$facet_params)\n",
      "18. train_scales(...)\n",
      "19. scale_apply(layer_data, x_vars, \"train\", SCALE_X, x_scales)\n",
      "20. lapply(vars, function(var) {\n",
      "  .     pieces <- lapply(seq_along(scales), function(i) {\n",
      "  .         scales[[i]][[method]](data[[var]][scale_index[[i]]])\n",
      "  .     })\n",
      "  .     pieces[lengths(pieces) == 0] <- NULL\n",
      "  .     o <- order(unlist(scale_index))[seq_len(sum(lengths(pieces)))]\n",
      "  .     vec_c(!!!pieces)[o]\n",
      "  . })\n",
      "21. FUN(X[[i]], ...)\n",
      "22. lapply(seq_along(scales), function(i) {\n",
      "  .     scales[[i]][[method]](data[[var]][scale_index[[i]]])\n",
      "  . })\n",
      "23. FUN(X[[i]], ...)\n",
      "24. scales[[i]][[method]](data[[var]][scale_index[[i]]])\n",
      "25. train(..., self = self)\n",
      "26. cli::cli_abort(c(\"Discrete values supplied to continuous scale.\", \n",
      "  .     i = \"Example values: {.and {.val {head(x, 5)}}}\"), call = self$call)\n",
      "27. rlang::abort(message, ..., call = call, use_cli_format = TRUE, \n",
      "  .     .frame = .frame)\n",
      "28. signal_abort(cnd, .file)\n"
     ]
    }
   ],
   "source": [
    "ggplot(tidy_data, aes(x = Teaching.Score, y = Female.Male.Ratio, color = \"Teaching.Score\")) +\n",
    "  geom_point() +\n",
    "  geom_point(aes(x = Research.Score, color = \"Research.Score\")) +\n",
    "  scale_x_continuous(limits = c(1, 100), breaks = seq(0, 100, by = 10)) +\n",
    "  labs(x = \"Score on a scale of 0-100\", y = \"Female.Male.Ratio\", color = \"Variables\", title = \"Research and Teaching Score vs. Female to Male Ratio\") +\n",
    "  scale_color_manual(values = c(\"blue\", \"red\")) +\n",
    "  theme(axis.text = element_text(size = 12),  \n",
    "        axis.title = element_text(size = 20),  \n",
    "        plot.title = element_text(size = 25),\n",
    "        legend.text = element_text(size = 15),\n",
    "        legend.title = element_text(size = 15))  \n",
    "\n",
    "options(repr.plot.width = 18, repr.plot.height = 6)"
   ]
  },
  {
   "cell_type": "markdown",
   "id": "c01e5825-2592-4704-8d2d-643b52cb29e5",
   "metadata": {},
   "source": [
    "Lastly, we plot the research score vs. the teaching scores. These scores were seperately surveyed. There is a strong positive linear relationship between the two scores. This result is quite intuitive."
   ]
  },
  {
   "cell_type": "code",
   "execution_count": 14,
   "id": "d50d0042-e035-4ce0-8ffd-24b73369842a",
   "metadata": {},
   "outputs": [
    {
     "name": "stderr",
     "output_type": "stream",
     "text": [
      "ERROR while rich displaying an object: \u001b[1m\u001b[33mError\u001b[39m in `scale_x_continuous()`:\u001b[22m\n",
      "\u001b[1m\u001b[22m\u001b[33m!\u001b[39m Discrete values supplied to continuous scale.\n",
      "\u001b[36mℹ\u001b[39m Example values: \u001b[34m\"99.7\"\u001b[39m, \u001b[34m\"99.0\"\u001b[39m, \u001b[34m\"99.5\"\u001b[39m, \u001b[34m\"96.7\"\u001b[39m, and \u001b[34m\"93.6\"\u001b[39m\n",
      "\n",
      "Traceback:\n",
      "1. tryCatch(withCallingHandlers({\n",
      " .     if (!mime %in% names(repr::mime2repr)) \n",
      " .         stop(\"No repr_* for mimetype \", mime, \" in repr::mime2repr\")\n",
      " .     rpr <- repr::mime2repr[[mime]](obj)\n",
      " .     if (is.null(rpr)) \n",
      " .         return(NULL)\n",
      " .     prepare_content(is.raw(rpr), rpr)\n",
      " . }, error = error_handler), error = outer_handler)\n",
      "2. tryCatchList(expr, classes, parentenv, handlers)\n",
      "3. tryCatchOne(expr, names, parentenv, handlers[[1L]])\n",
      "4. doTryCatch(return(expr), name, parentenv, handler)\n",
      "5. withCallingHandlers({\n",
      " .     if (!mime %in% names(repr::mime2repr)) \n",
      " .         stop(\"No repr_* for mimetype \", mime, \" in repr::mime2repr\")\n",
      " .     rpr <- repr::mime2repr[[mime]](obj)\n",
      " .     if (is.null(rpr)) \n",
      " .         return(NULL)\n",
      " .     prepare_content(is.raw(rpr), rpr)\n",
      " . }, error = error_handler)\n",
      "6. repr::mime2repr[[mime]](obj)\n",
      "7. repr_text.default(obj)\n",
      "8. paste(capture.output(print(obj)), collapse = \"\\n\")\n",
      "9. capture.output(print(obj))\n",
      "10. withVisible(...elt(i))\n",
      "11. print(obj)\n",
      "12. print.ggplot(obj)\n",
      "13. ggplot_build(x)\n",
      "14. ggplot_build.ggplot(x)\n",
      "15. layout$train_position(data, scale_x(), scale_y())\n",
      "16. train_position(..., self = self)\n",
      "17. self$facet$train_scales(self$panel_scales_x, self$panel_scales_y, \n",
      "  .     layout, data, self$facet_params)\n",
      "18. train_scales(...)\n",
      "19. scale_apply(layer_data, x_vars, \"train\", SCALE_X, x_scales)\n",
      "20. lapply(vars, function(var) {\n",
      "  .     pieces <- lapply(seq_along(scales), function(i) {\n",
      "  .         scales[[i]][[method]](data[[var]][scale_index[[i]]])\n",
      "  .     })\n",
      "  .     pieces[lengths(pieces) == 0] <- NULL\n",
      "  .     o <- order(unlist(scale_index))[seq_len(sum(lengths(pieces)))]\n",
      "  .     vec_c(!!!pieces)[o]\n",
      "  . })\n",
      "21. FUN(X[[i]], ...)\n",
      "22. lapply(seq_along(scales), function(i) {\n",
      "  .     scales[[i]][[method]](data[[var]][scale_index[[i]]])\n",
      "  . })\n",
      "23. FUN(X[[i]], ...)\n",
      "24. scales[[i]][[method]](data[[var]][scale_index[[i]]])\n",
      "25. train(..., self = self)\n",
      "26. cli::cli_abort(c(\"Discrete values supplied to continuous scale.\", \n",
      "  .     i = \"Example values: {.and {.val {head(x, 5)}}}\"), call = self$call)\n",
      "27. rlang::abort(message, ..., call = call, use_cli_format = TRUE, \n",
      "  .     .frame = .frame)\n",
      "28. signal_abort(cnd, .file)\n"
     ]
    }
   ],
   "source": [
    "ggplot(tidy_data, aes(x=Research.Score, y=Teaching.Score)) +\n",
    "       geom_point()+ scale_x_continuous(breaks = seq(0, 100, by = 5)) +\n",
    "scale_y_continuous(breaks = seq(0, 100, by = 5)) +\n",
    "labs(x = \"Research Score from 0-100\", y = \"Teaching Score from 0-100\", title = \"Research Score vs. Teaching Score\") +\n",
    "       theme(axis.text = element_text(size = 12),  \n",
    "             axis.title = element_text(size = 20),  \n",
    "             plot.title = element_text(size = 25))  \n",
    "\n",
    "options(repr.plot.width = 18, repr.plot.height = 6)"
   ]
  },
  {
   "cell_type": "markdown",
   "id": "44763f62-5834-4968-a74e-2b7f8a1390c8",
   "metadata": {},
   "source": [
    "## My Methods and Plan"
   ]
  },
  {
   "cell_type": "markdown",
   "id": "38238371-9792-46ef-a0c3-f8c600c78e19",
   "metadata": {},
   "source": [
    "In my project, I am exploring how research score changes based on university rank, teaching score, and female to male ratios. To do my best in avoiding possible confounding variables, I will conduct my exploration with all variables provided, except for the names of the universities. By logic, the names of the universities have no relationship with any of the other variables, such as teaching score and student count. Furthermore, the location variable has many levels. This can cause overfitting and the resulting model may be difficult to interpret. In order to avoid this, I will aim to categorize location more generally, such as by continent. \n",
    "\n",
    "Since I plan to conduct the exploration with nearly all the variables in the dataset, using backward selection will be appropriate. This method will control Type 1 error and will lower the risk of overfitting compared to forward selection. As this method starts with a full model, it also lowers the risk of leaving out confounding variables. I will split my data into a training set and testing set, utilizing the 30% and 70% ratio. Lasso will be appropriate to use here for variable selection, since we have many factors and some may not be important. It will be more effective than Ridge, which tends to retain all variables in the full model. \n",
    "\n",
    "Using Lasso would require the assumptions of linearity in the data, independence, and the absence of multicollinearity. It also assumes there is no relationship if variables have small coefficients. This may not be true in reality. The backward selection method also requires the assumption of linearity and assumes the model residuals are independent and normal.\n",
    "\n",
    "A potential weakness in using the Lasso approach will be the location variable, which is categorical. I can use one-hot encoding in order to use Lasso, but it will be hard to control the risk of multicollinearity and will negatively affect the results of variable selection and the model built. The backward selection method also has limited performance when it comes to this categorical variable. Removing the categorical variable may lead to multicollinearity problems, especially since the location variable may be associated with student numbers, international student percentages, etc. \n",
    "\n",
    "\n",
    "\n",
    "\n"
   ]
  },
  {
   "cell_type": "markdown",
   "id": "5cb1208e-3ec1-45eb-b0c0-ffc527bfa045",
   "metadata": {},
   "source": [
    "# Implementation of a proposed model"
   ]
  },
  {
   "cell_type": "code",
   "execution_count": 71,
   "id": "22fff5a7-f9e2-4d6c-b961-2749a3bc6393",
   "metadata": {
    "jupyter": {
     "source_hidden": true
    }
   },
   "outputs": [
    {
     "data": {
      "text/html": [
       "<table class=\"dataframe\">\n",
       "<caption>A data.frame: 8 × 11</caption>\n",
       "<thead>\n",
       "\t<tr><th></th><th scope=col>Adj.R.Squared</th><th scope=col>Cp.Value</th><th scope=col>X.Intercept.</th><th scope=col>No.of.student</th><th scope=col>Industry.Income.Score</th><th scope=col>University.Rank</th><th scope=col>Female.Male.Ratio</th><th scope=col>International.Outlook.Score</th><th scope=col>No.of.student.per.staff</th><th scope=col>Teaching.Score</th><th scope=col>Citations.Score</th></tr>\n",
       "\t<tr><th></th><th scope=col>&lt;dbl&gt;</th><th scope=col>&lt;dbl&gt;</th><th scope=col>&lt;chr&gt;</th><th scope=col>&lt;chr&gt;</th><th scope=col>&lt;chr&gt;</th><th scope=col>&lt;chr&gt;</th><th scope=col>&lt;chr&gt;</th><th scope=col>&lt;chr&gt;</th><th scope=col>&lt;chr&gt;</th><th scope=col>&lt;chr&gt;</th><th scope=col>&lt;chr&gt;</th></tr>\n",
       "</thead>\n",
       "<tbody>\n",
       "\t<tr><th scope=row>1</th><td>0.8229885</td><td>163.405578</td><td>Yes</td><td>x  </td><td>x  </td><td>x  </td><td>x  </td><td>x  </td><td>x  </td><td>Yes</td><td>x  </td></tr>\n",
       "\t<tr><th scope=row>2</th><td>0.8867495</td><td> 57.587540</td><td>Yes</td><td>x  </td><td>x  </td><td>Yes</td><td>x  </td><td>x  </td><td>x  </td><td>Yes</td><td>x  </td></tr>\n",
       "\t<tr><th scope=row>3</th><td>0.9050573</td><td> 28.080283</td><td>Yes</td><td>x  </td><td>x  </td><td>Yes</td><td>x  </td><td>x  </td><td>x  </td><td>Yes</td><td>Yes</td></tr>\n",
       "\t<tr><th scope=row>4</th><td>0.9117516</td><td> 17.976093</td><td>Yes</td><td>x  </td><td>x  </td><td>Yes</td><td>x  </td><td>Yes</td><td>x  </td><td>Yes</td><td>Yes</td></tr>\n",
       "\t<tr><th scope=row>5</th><td>0.9167894</td><td> 10.720769</td><td>Yes</td><td>x  </td><td>x  </td><td>Yes</td><td>x  </td><td>Yes</td><td>Yes</td><td>Yes</td><td>Yes</td></tr>\n",
       "\t<tr><th scope=row>6</th><td>0.9196978</td><td>  7.011872</td><td>Yes</td><td>Yes</td><td>x  </td><td>Yes</td><td>x  </td><td>Yes</td><td>Yes</td><td>Yes</td><td>Yes</td></tr>\n",
       "\t<tr><th scope=row>7</th><td>0.9203004</td><td>  7.051088</td><td>Yes</td><td>Yes</td><td>Yes</td><td>Yes</td><td>x  </td><td>Yes</td><td>Yes</td><td>Yes</td><td>Yes</td></tr>\n",
       "\t<tr><th scope=row>8</th><td>0.9197052</td><td>  9.000000</td><td>Yes</td><td>Yes</td><td>Yes</td><td>Yes</td><td>Yes</td><td>Yes</td><td>Yes</td><td>Yes</td><td>Yes</td></tr>\n",
       "</tbody>\n",
       "</table>\n"
      ],
      "text/latex": [
       "A data.frame: 8 × 11\n",
       "\\begin{tabular}{r|lllllllllll}\n",
       "  & Adj.R.Squared & Cp.Value & X.Intercept. & No.of.student & Industry.Income.Score & University.Rank & Female.Male.Ratio & International.Outlook.Score & No.of.student.per.staff & Teaching.Score & Citations.Score\\\\\n",
       "  & <dbl> & <dbl> & <chr> & <chr> & <chr> & <chr> & <chr> & <chr> & <chr> & <chr> & <chr>\\\\\n",
       "\\hline\n",
       "\t1 & 0.8229885 & 163.405578 & Yes & x   & x   & x   & x   & x   & x   & Yes & x  \\\\\n",
       "\t2 & 0.8867495 &  57.587540 & Yes & x   & x   & Yes & x   & x   & x   & Yes & x  \\\\\n",
       "\t3 & 0.9050573 &  28.080283 & Yes & x   & x   & Yes & x   & x   & x   & Yes & Yes\\\\\n",
       "\t4 & 0.9117516 &  17.976093 & Yes & x   & x   & Yes & x   & Yes & x   & Yes & Yes\\\\\n",
       "\t5 & 0.9167894 &  10.720769 & Yes & x   & x   & Yes & x   & Yes & Yes & Yes & Yes\\\\\n",
       "\t6 & 0.9196978 &   7.011872 & Yes & Yes & x   & Yes & x   & Yes & Yes & Yes & Yes\\\\\n",
       "\t7 & 0.9203004 &   7.051088 & Yes & Yes & Yes & Yes & x   & Yes & Yes & Yes & Yes\\\\\n",
       "\t8 & 0.9197052 &   9.000000 & Yes & Yes & Yes & Yes & Yes & Yes & Yes & Yes & Yes\\\\\n",
       "\\end{tabular}\n"
      ],
      "text/markdown": [
       "\n",
       "A data.frame: 8 × 11\n",
       "\n",
       "| <!--/--> | Adj.R.Squared &lt;dbl&gt; | Cp.Value &lt;dbl&gt; | X.Intercept. &lt;chr&gt; | No.of.student &lt;chr&gt; | Industry.Income.Score &lt;chr&gt; | University.Rank &lt;chr&gt; | Female.Male.Ratio &lt;chr&gt; | International.Outlook.Score &lt;chr&gt; | No.of.student.per.staff &lt;chr&gt; | Teaching.Score &lt;chr&gt; | Citations.Score &lt;chr&gt; |\n",
       "|---|---|---|---|---|---|---|---|---|---|---|---|\n",
       "| 1 | 0.8229885 | 163.405578 | Yes | x   | x   | x   | x   | x   | x   | Yes | x   |\n",
       "| 2 | 0.8867495 |  57.587540 | Yes | x   | x   | Yes | x   | x   | x   | Yes | x   |\n",
       "| 3 | 0.9050573 |  28.080283 | Yes | x   | x   | Yes | x   | x   | x   | Yes | Yes |\n",
       "| 4 | 0.9117516 |  17.976093 | Yes | x   | x   | Yes | x   | Yes | x   | Yes | Yes |\n",
       "| 5 | 0.9167894 |  10.720769 | Yes | x   | x   | Yes | x   | Yes | Yes | Yes | Yes |\n",
       "| 6 | 0.9196978 |   7.011872 | Yes | Yes | x   | Yes | x   | Yes | Yes | Yes | Yes |\n",
       "| 7 | 0.9203004 |   7.051088 | Yes | Yes | Yes | Yes | x   | Yes | Yes | Yes | Yes |\n",
       "| 8 | 0.9197052 |   9.000000 | Yes | Yes | Yes | Yes | Yes | Yes | Yes | Yes | Yes |\n",
       "\n"
      ],
      "text/plain": [
       "  Adj.R.Squared Cp.Value   X.Intercept. No.of.student Industry.Income.Score\n",
       "1 0.8229885     163.405578 Yes          x             x                    \n",
       "2 0.8867495      57.587540 Yes          x             x                    \n",
       "3 0.9050573      28.080283 Yes          x             x                    \n",
       "4 0.9117516      17.976093 Yes          x             x                    \n",
       "5 0.9167894      10.720769 Yes          x             x                    \n",
       "6 0.9196978       7.011872 Yes          Yes           x                    \n",
       "7 0.9203004       7.051088 Yes          Yes           Yes                  \n",
       "8 0.9197052       9.000000 Yes          Yes           Yes                  \n",
       "  University.Rank Female.Male.Ratio International.Outlook.Score\n",
       "1 x               x                 x                          \n",
       "2 Yes             x                 x                          \n",
       "3 Yes             x                 x                          \n",
       "4 Yes             x                 Yes                        \n",
       "5 Yes             x                 Yes                        \n",
       "6 Yes             x                 Yes                        \n",
       "7 Yes             x                 Yes                        \n",
       "8 Yes             Yes               Yes                        \n",
       "  No.of.student.per.staff Teaching.Score Citations.Score\n",
       "1 x                       Yes            x              \n",
       "2 x                       Yes            x              \n",
       "3 x                       Yes            Yes            \n",
       "4 x                       Yes            Yes            \n",
       "5 Yes                     Yes            Yes            \n",
       "6 Yes                     Yes            Yes            \n",
       "7 Yes                     Yes            Yes            \n",
       "8 Yes                     Yes            Yes            "
      ]
     },
     "metadata": {},
     "output_type": "display_data"
    }
   ],
   "source": [
    "# Using regsubsets(), we conduct an exhaustive search for variable selection by considering all possible subsets of predictors:\n",
    "subsets = regsubsets(Research.Score~. + No.of.student + Industry.Income.Score, data = tidy_data,method=\"exhaustive\")\n",
    "s = summary(subsets)\n",
    "predictors <- ifelse(s$which, \"Yes\", \"x\")\n",
    "\n",
    "table <- data.frame(\"Adj R Squared\" = s$adjr2,\n",
    "                    \"Cp Value\" = s$cp, \n",
    "                    predictors)\n",
    "\n",
    "table"
   ]
  },
  {
   "cell_type": "markdown",
   "id": "bbd39477-b4a8-4d0b-8772-3e0c26960dfa",
   "metadata": {},
   "source": [
    "Using regsubsets() from the leap package, we evaluate the adjusted R squared and Cp value of all possible subsets of predictors to find the best and most efficient linear model. According to the table, I think that the most optimal model is #5 due to its high adjusted R squared of 0.917 and a Cp value of 10.720769. With running costs in mind, I chose this model because the adjusted R squared doesn't increase much and the Cp value does not get much closer to 9 as the models get larger beyond 5 predictors. These results were expected as we saw that Research scores had moderate to high linear correlation values with the variables selected. (University Rank, International Outlook Score, No. of Students per staff, Teaching Score, and Citations Score)"
   ]
  }
 ],
 "metadata": {
  "kernelspec": {
   "display_name": "R",
   "language": "R",
   "name": "ir"
  },
  "language_info": {
   "codemirror_mode": "r",
   "file_extension": ".r",
   "mimetype": "text/x-r-source",
   "name": "R",
   "pygments_lexer": "r",
   "version": "4.3.3"
  }
 },
 "nbformat": 4,
 "nbformat_minor": 5
}
