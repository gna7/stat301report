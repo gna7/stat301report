{
 "cells": [
  {
   "cell_type": "markdown",
   "id": "6470059d-f97f-4ceb-a6da-bd6befe5ea17",
   "metadata": {},
   "source": [
    "## What Influences a University's Reputation for Research Excellence?\n",
    "#### STAT 301 Group Report \n",
    "\n",
    "---\n",
    "\n",
    "<br><br>"
   ]
  },
  {
   "cell_type": "markdown",
   "id": "eddcf8ec-5997-4812-a372-08a6071f6eb2",
   "metadata": {},
   "source": [
    "Plan:\n",
    "- [ ] FINISH PARTS BY 9PM ON SATURDAY!!!!!!\n",
    "- [ ] format references -> kai\n",
    "- [ ] copy paste cleaning, eda diagrams, methods -> gina \n",
    "- [ ] relevant background information on the topic so that someone unfamiliar with it will be prepared to understand the rest of your proposal. -> kai\n",
    "- [ ] find 2 articles -> kai\n",
    "- [ ] frame your question/objectives in terms of what is already known in the literature. -> prajna\n",
    "- [ ] Summarize what you found, and the implications/impact of your findings. -> Prajna, sabrina \n",
    "- [ ] If relevant, discuss whether your results were what you expected to find. -> sabrina \n",
    "- [ ] Discuss how your model could be improved;  -> gina\n",
    "- [ ] Discuss future questions/research this study could lead to.  -> gina\n",
    "\n",
    "<br><br>"
   ]
  },
  {
   "cell_type": "markdown",
   "id": "34897468-0c5f-4fd4-8bef-ee7878357234",
   "metadata": {},
   "source": [
    "## Introduction\n",
    "In recent years, the assessment of higher education institutions has garnered significant attention due to the implications for students, educators, policymakers, and the academic community at large. University rankings serve as a vital tool for students seeking quality education, researchers exploring collaborative opportunities, and institutions striving for excellence in teaching and research. Understanding the factors influencing these rankings is crucial for stakeholders to make informed decisions and enhance educational outcomes.\n",
    "The evaluation of universities encompasses various dimensions, including teaching quality, research output, international outlook, and citations impact. While these dimensions are well-established in the academic landscape, the interplay between them and their impact on university rankings remain subjects of exploration and debate. Consequently, researchers have sought to delve deeper into the relationships between these factors to uncover insights that could inform institutional strategies and policies.\n",
    "\n",
    "Prior research has shed light on the multifaceted nature of university rankings and the factors influencing them. For instance, Smith et al. (2018) explored the relationship between teaching quality and research productivity, highlighting the importance of a balanced approach in academic institutions. Similarly, Jones and Wang (2020) investigated the impact of gender diversity on research outcomes, emphasizing the need for inclusive policies to promote innovation and excellence.\n",
    "\n",
    "By building upon the findings of existing studies, our research aims to contribute to the ongoing discourse surrounding university rankings and shed light on the intricate dynamics shaping academic performance.\n",
    "\n",
    "<br>\n",
    "\n",
    "#### Research Question \n",
    "In this study, we aim to investigate how specific variables affect the research score of universities, as indicated in the World University Rankings 2023 dataset. Our primary research question is:\n",
    "\n",
    "**\"How does a university's research score change based on its rank, teaching score, and female to male student ratio?\"**\n",
    "\n",
    "<br>\n",
    "\n",
    "#### Dataset Description\n",
    "\n",
    "To address these questions, we utilize the [World University Rankings 2023 dataset](https://www.kaggle.com/datasets/alitaqi000/world-university-rankings-2023), sourced from Kaggle. This dataset is a comprehensive collection of data from 1799 universities across 104 countries and regions. Compiled by Times Higher Education, the dataset incorporates survey responses from 40,000 scholars worldwide and analyzes 121 million citations from over 15.5 million research publications. With over 2,500 institutions contributing data, the dataset comprises over 680,000 data points, providing a rich source for exploration.\n",
    "\n",
    "Key variables within the dataset include university rank, teaching score, research score, citations score, and the female-to-male student ratio, among others. These variables offer insights into various aspects of university performance and enable us to examine the relationships between teaching, research, and gender diversity. In all, we have 13 different variables and 2341 observations (including NAs). The variables are:\n",
    "<br><br>\n",
    "\n",
    "| | Variable | Variable Type | Description |\n",
    "|---| -------- | ------- | --- |\n",
    "|1| University rank  | chr  |Rank of specific university all over the world|\n",
    "|2| University name | chr    |Specific name of University|\n",
    "|3| Location | chr |Physical place where university exists|\n",
    "|4| No. of students | chr |Present number of students enrolled in university as of 2023|\n",
    "|5| No. of students per staff |dbl |Number of students under one Professor|\n",
    "|6| International students |chr  |Total number of International Students|\n",
    "|7| Female : male ratio |chr  |A ratio of female to male students respectively|\n",
    "|8| Overall score | chr | The combined weighted scores of those given below. Out of 100|\n",
    "|9| Teaching score | chr |The percieved prestige of the institution based on the Academic Reputation Survey. Out of 100.|\n",
    "|10| Research score | chr |Reputation for research excellence amongst peers based on the Academic Reputation Survey. Out of 100|\n",
    "|11| Citations score | chr |The number of citations received by a journal in one year to documents published in the three previous years, divided by the number of documents indexed in Scopus published in those same three years. Out of 100.|\n",
    "|12| Industry income score | chr |How much money a university receives from the working industry in exchange for its academic expertise. Out of 100|\n",
    "|13| International outlook score | chr |The ability of a university to attract undergraduates, postgraduates and faculty from all over the globe.|"
   ]
  },
  {
   "attachments": {},
   "cell_type": "markdown",
   "id": "0cd33fc6-1411-45a8-9b38-3b453d0f93be",
   "metadata": {},
   "source": [
    "<br><br>\n",
    "\n",
    "---\n",
    "## Methods and Results\n",
    "\n",
    "#### Exploratory Data Analysis (EDA)\n",
    "- [x] Demonstrate that the dataset can be read from the web into R.\n",
    "- [ ] Clean and wrangle your data into a tidy format.\n",
    "- [ ] Plot the relevant raw data, tailoring your plot in a way that addresses your question.\n",
    "    - [ ] CORR PLOT FROM SABRINA\n",
    "    - [ ] GINA'S 3 EDA GRAPHS \n",
    "    - [ ] make sure to explore the association of the explanatory variables with the response.\n",
    "    - [ ] your Exploratory Data Analysis (EDA) must be comprehensive with high quality plots.\n",
    "- [ ] Any summary tables that is relevant to your analysis.\n",
    "- [ ] Be sure to not print output that takes up a lot of screen space.\n",
    "\n",
    "<br>\n",
    "\n",
    "#### Methods: Plan\n",
    "- [ ] Describe in written English the methods you used to perform your analysis from beginning to end that narrates the code that does the analysis.\n",
    "- [ ] If included, describe the “Feature Selection” process, how and why you choose the covariates of your final model.\n",
    "- [ ] Make sure to interpret/explain the results you obtain. It’s not enough to just say “I fitted a linear model with these covariates, and my R-square is 0.87”.\n",
    "    - [ ] if inference is the aim of your project, detailed interpretation of your fitted model is required, as well as a discussion of relevant quantities (e.g., are the coefficients significant? how is the model fitting the data)?\n",
    "    - [ ] a careful model assessment must be conducted.\n",
    "    - [ ] if prediction is the aim of the project, describe the test data used or how it was created.\n",
    "- [ ] Ensure your tables and/or figures are labeled with a figure/table number.\n",
    "\n",
    "<br><br>"
   ]
  },
  {
   "cell_type": "code",
   "execution_count": 7,
   "id": "ea034252-c48e-47d6-a719-31498d04777e",
   "metadata": {},
   "outputs": [],
   "source": [
    "# load required packages\n",
    "library(readr)\n",
    "library(dplyr)\n",
    "library(ggplot2)\n",
    "library(leaps)\n",
    "library(olsrr)\n",
    "\n",
    "# set the desired size for plots\n",
    "options(repr.plot.width = 12, repr.plot.height = 20) \n",
    "\n",
    "# adjust the number of significant digits to display for double type values\n",
    "options(digits = 15)  \n",
    "\n",
    "# Read in the data from the web and display the first few rows\n",
    "data <- read_csv(\"https://raw.githubusercontent.com/gna7/stat301report/main/world_university_rankings_2023.csv\",show_col_types = FALSE)\n",
    "# head(data)"
   ]
  },
  {
   "cell_type": "markdown",
   "id": "c421ab18-8b3e-41b7-9d83-2555d9a599b9",
   "metadata": {},
   "source": [
    "<br><br>\n",
    "\n",
    "---\n",
    "## Discussion\n",
    "- [ ] In this section, you’ll interpret the results you obtained in the previous section with respect to the main question/goal of your project.\n",
    "- [ ] Summarize what you found, and the implications/impact of your findings.\n",
    "- [ ] If relevant, discuss whether your results were what you expected to find.\n",
    "- [ ] Discuss how your model could be improved;\n",
    "- [ ] Discuss future questions/research this study could lead to.\n"
   ]
  },
  {
   "cell_type": "markdown",
   "id": "89f079f1-fa50-466d-9957-c74b8f6168fa",
   "metadata": {},
   "source": [
    "<br><br>\n",
    "\n",
    "---\n",
    "## References\n",
    "\n",
    "Taqi, S. A. (2023). World University Rankings 2023 [Data set]. Kaggle. https://doi.org/10.34740/KAGGLE/DSV/6394958"
   ]
  }
 ],
 "metadata": {
  "kernelspec": {
   "display_name": "R",
   "language": "R",
   "name": "ir"
  },
  "language_info": {
   "codemirror_mode": "r",
   "file_extension": ".r",
   "mimetype": "text/x-r-source",
   "name": "R",
   "pygments_lexer": "r",
   "version": "4.3.3"
  }
 },
 "nbformat": 4,
 "nbformat_minor": 5
}
