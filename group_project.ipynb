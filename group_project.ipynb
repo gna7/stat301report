{
 "cells": [
  {
   "cell_type": "markdown",
   "id": "6470059d-f97f-4ceb-a6da-bd6befe5ea17",
   "metadata": {},
   "source": [
    "## How does the research score change based on university rank, teaching score, and female to male ratios?\n",
    "### STAT 301 Group Report \n",
    "\n",
    "---\n",
    "\n",
    "<br><br>"
   ]
  },
  {
   "cell_type": "markdown",
   "id": "eddcf8ec-5997-4812-a372-08a6071f6eb2",
   "metadata": {},
   "source": [
    "Plan:\n",
    "- FINISH PARTS BY 9PM ON SATURDAY\n",
    "- format references -> kai\n",
    "- copy paste cleaning, eda diagrams, methods -> gina \n",
    "- relevant background information on the topic so that someone unfamiliar with it will be prepared to understand the rest of your proposal. -> kai\n",
    "- find 2 articles -> kai\n",
    "- frame your question/objectives in terms of what is already known in the literature. -> prajna\n",
    "- Summarize what you found, and the implications/impact of your findings. -> Prajna, sabrina \n",
    "- If relevant, discuss whether your results were what you expected to find. -> sabrina \n",
    "- Discuss how your model could be improved;  -> gina\n",
    "- Discuss future questions/research this study could lead to.  -> gina\n"
   ]
  },
  {
   "cell_type": "markdown",
   "id": "34897468-0c5f-4fd4-8bef-ee7878357234",
   "metadata": {},
   "source": [
    "## Introduction\n",
    "\n",
    "**Research Question**\n",
    "We will explore the relationship between these covariates and the research score. Our goal is to quantify these trends using the following variables in the dataset: Female : Male Ratio, University Rank, Research Score, and Teaching Score. \n",
    "\n",
    "<br>\n",
    "\n",
    "**Background Information**\n",
    "- relevant background information on the topic so that someone unfamiliar with it will be prepared to understand the rest of your proposal.\n",
    "- find 2 articles\n",
    "- frame your question/objectives in terms of what is already known in the literature.\n",
    "\n",
    "\n",
    "<br>\n",
    "\n",
    "**Summary of Dataset**\n",
    "\n",
    "From kaggle, the [World University Rankings 2023 dataset](https://www.kaggle.com/datasets/alitaqi000/world-university-rankings-2023) spans 104 countries and regions with 1799 universities. The data was collected by Times Higher Education's survey responses from 40,000 scholars across the world and analyzing 121 million citations in over 15.5 million research publications. Over 2,500 institutions\n",
    "submitted data and over 680,000 data points were collected as a result. The key variables in this dataset are the teaching, research, international outlook and citations score. \n",
    "\n",
    "**Characterization of Data:**\n",
    "\n",
    "- 2341 observations\n",
    "- 13 variables\n",
    "\n",
    "\n",
    "\n",
    "| Variable Name             | Description                               | Data Type |\n",
    "|-------------------------|-------------------------------------------|-----------|\n",
    "| University Rank         | World ranking of the university                 | character   |\n",
    "| Name of University      | Name                     | character |\n",
    "| Location                | University Location               | character |\n",
    "| No of student           | Number of students enrolled presently                     | numeric  |\n",
    "| No of student per staff | Number of students per staff (students under 1 professor)          | numeric   |\n",
    "| International Student   | Percentage of international students      | character  |\n",
    "| Female : Male Ratio     | Ratio of female to male students          | character   |\n",
    "| OverAll Score           | Overall score out of 100          | character    |\n",
    "| Teaching Score          | Teaching score out of 100         | character    |\n",
    "| Research Score          | Research score out of 100         | character    |\n",
    "| Citations Score         | Citations score out of 100. (Number of citations recieved by a journal in a year to documents published in the past 3 years divided by number of indexed documents in Scopus published in the past 3 years)     | character    |\n",
    "| Industry Income Score   | Industry income score out of 100. Based on how much the university earns from the working industry due to its academics.  | character    |\n",
    "| International Outlook Score | International outlook score out of 100. Based on how well the university attracts students and staff on a global scale. | character  |"
   ]
  },
  {
   "attachments": {},
   "cell_type": "markdown",
   "id": "0cd33fc6-1411-45a8-9b38-3b453d0f93be",
   "metadata": {},
   "source": [
    "## Methods and Results\n",
    "\n",
    "a) “Exploratory Data Analysis (EDA)”\n",
    "- [x] Demonstrate that the dataset can be read from the web into R.\n",
    "- Clean and wrangle your data into a tidy format.\n",
    "- Plot the relevant raw data, tailoring your plot in a way that addresses your question.\n",
    "    - CORR PLOT FROM SABRINA\n",
    "    - GINA'S 3 EDA GRAPHS \n",
    "- make sure to explore the association of the explanatory variables with the response.\n",
    "- your Exploratory Data Analysis (EDA) must be comprehensive with high quality plots.\n",
    "- Any summary tables that is relevant to your analysis.\n",
    "- Be sure to not print output that takes up a lot of screen space.\n",
    "\n",
    "b) “Methods: Plan”\n",
    "\n",
    "Describe in written English the methods you used to perform your analysis from beginning to end that narrates the code that does the analysis.\n",
    "If included, describe the “Feature Selection” process, how and why you choose the covariates of your final model.\n",
    "Make sure to interpret/explain the results you obtain. It’s not enough to just say “I fitted a linear model with these covariates, and my R-square is 0.87”.\n",
    "if inference is the aim of your project, detailed interpretation of your fitted model is required, as well as a discussion of relevant quantities (e.g., are the coefficients significant? how is the model fitting the data)?\n",
    "a careful model assessment must be conducted.\n",
    "if prediction is the aim of the project, describe the test data used or how it was created.\n",
    "Ensure your tables and/or figures are labeled with a figure/table number."
   ]
  },
  {
   "cell_type": "code",
   "execution_count": 2,
   "id": "6784bb5f-db76-4028-85c4-7bd58255f22b",
   "metadata": {
    "collapsed": true,
    "jupyter": {
     "outputs_hidden": true
    }
   },
   "outputs": [
    {
     "name": "stderr",
     "output_type": "stream",
     "text": [
      "also installing the dependencies ‘goftest’, ‘nortest’, ‘xplorerr’\n",
      "\n",
      "\n"
     ]
    },
    {
     "name": "stdout",
     "output_type": "stream",
     "text": [
      "\n",
      "The downloaded binary packages are in\n",
      "\t/var/folders/1x/18g3rdbx5rz1sbzhnp6ywcvr0000gn/T//RtmpDCtN2H/downloaded_packages\n"
     ]
    },
    {
     "name": "stderr",
     "output_type": "stream",
     "text": [
      "\n",
      "Attaching package: ‘olsrr’\n",
      "\n",
      "\n",
      "The following object is masked from ‘package:datasets’:\n",
      "\n",
      "    rivers\n",
      "\n",
      "\n"
     ]
    }
   ],
   "source": [
    "install.packages(\"readr\")\n",
    "install.packages(\"ggplot2\")\n",
    "install.packages(\"olsrr\")\n",
    "library(readr)\n",
    "library(dplyr)\n",
    "library(ggplot2)\n",
    "library(leaps)\n",
    "library(olsrr)"
   ]
  },
  {
   "cell_type": "code",
   "execution_count": 4,
   "id": "4cb66c1d-336a-42ae-a276-f8c842ecf23f",
   "metadata": {},
   "outputs": [
    {
     "name": "stderr",
     "output_type": "stream",
     "text": [
      "\u001b[1mRows: \u001b[22m\u001b[34m2341\u001b[39m \u001b[1mColumns: \u001b[22m\u001b[34m13\u001b[39m\n",
      "\u001b[36m──\u001b[39m \u001b[1mColumn specification\u001b[22m \u001b[36m────────────────────────────────────────────────────────\u001b[39m\n",
      "\u001b[1mDelimiter:\u001b[22m \",\"\n",
      "\u001b[31mchr\u001b[39m (10): University Rank, Name of University, Location, Female:Male Ratio, ...\n",
      "\u001b[32mdbl\u001b[39m  (3): No of student, No of student per staff, International Student\n",
      "\n",
      "\u001b[36mℹ\u001b[39m Use `spec()` to retrieve the full column specification for this data.\n",
      "\u001b[36mℹ\u001b[39m Specify the column types or set `show_col_types = FALSE` to quiet this message.\n"
     ]
    }
   ],
   "source": [
    "# Read in the data from the web\n",
    "data <- read_csv(\"https://raw.githubusercontent.com/gna7/stat301report/main/world_university_rankings_2023.csv\")\n",
    "# head(data)"
   ]
  },
  {
   "cell_type": "markdown",
   "id": "c421ab18-8b3e-41b7-9d83-2555d9a599b9",
   "metadata": {},
   "source": [
    "## Discussion\n",
    "In this section, you’ll interpret the results you obtained in the previous section with respect to the main question/goal of your project.\n",
    "\n",
    "Summarize what you found, and the implications/impact of your findings.\n",
    "If relevant, discuss whether your results were what you expected to find.\n",
    "Discuss how your model could be improved;\n",
    "Discuss future questions/research this study could lead to.\n"
   ]
  },
  {
   "cell_type": "markdown",
   "id": "89f079f1-fa50-466d-9957-c74b8f6168fa",
   "metadata": {},
   "source": [
    "## References"
   ]
  }
 ],
 "metadata": {
  "kernelspec": {
   "display_name": "R",
   "language": "R",
   "name": "ir"
  },
  "language_info": {
   "codemirror_mode": "r",
   "file_extension": ".r",
   "mimetype": "text/x-r-source",
   "name": "R",
   "pygments_lexer": "r",
   "version": "4.3.3"
  }
 },
 "nbformat": 4,
 "nbformat_minor": 5
}
